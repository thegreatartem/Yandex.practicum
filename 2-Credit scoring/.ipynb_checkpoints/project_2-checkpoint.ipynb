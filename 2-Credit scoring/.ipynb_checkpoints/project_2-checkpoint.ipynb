{
 "cells": [
  {
   "cell_type": "markdown",
   "id": "3e0bd4c0",
   "metadata": {
    "deletable": false,
    "editable": false,
    "id": "c81daeeb"
   },
   "source": [
    "# Исследование надежности заемщиков\n"
   ]
  },
  {
   "cell_type": "markdown",
   "id": "aa04d5b2",
   "metadata": {
    "deletable": false,
    "editable": false,
    "id": "827c20bf"
   },
   "source": [
    "Во второй части проекта вы выполните шаги 3 и 4. Их вручную проверит ревьюер.\n",
    "Чтобы вам не пришлось писать код заново для шагов 1 и 2, мы добавили авторские решения в ячейки с кодом. \n",
    "\n"
   ]
  },
  {
   "cell_type": "markdown",
   "id": "de01cf17",
   "metadata": {
    "deletable": false,
    "editable": false,
    "id": "744d7639"
   },
   "source": [
    "## Откройте таблицу и изучите общую информацию о данных"
   ]
  },
  {
   "cell_type": "markdown",
   "id": "5428d4c1",
   "metadata": {
    "deletable": false,
    "editable": false,
    "id": "e7a14c31"
   },
   "source": [
    "**Задание 1. Импортируйте библиотеку pandas. Считайте данные из csv-файла в датафрейм и сохраните в переменную `data`. Путь к файлу:**\n",
    "\n",
    "`/datasets/data.csv`"
   ]
  },
  {
   "cell_type": "code",
   "execution_count": 1,
   "id": "8d66f0dc",
   "metadata": {
    "deletable": false,
    "id": "7bcf75c9"
   },
   "outputs": [],
   "source": [
    "import pandas as pd\n",
    "\n",
    "try:\n",
    "    data = pd.read_csv('/datasets/data.csv')\n",
    "except:\n",
    "    data = pd.read_csv('https://yandex.ru/datasets/data.csv')"
   ]
  },
  {
   "cell_type": "markdown",
   "id": "5bfa85f5",
   "metadata": {
    "deletable": false,
    "editable": false,
    "id": "b8038fe3"
   },
   "source": [
    "**Задание 2. Выведите первые 20 строчек датафрейма `data` на экран.**"
   ]
  },
  {
   "cell_type": "code",
   "execution_count": 2,
   "id": "4410ed41",
   "metadata": {
    "deletable": false,
    "id": "2a7cab99",
    "outputId": "1a8f3ef2-d323-4ec2-ddf7-89670b5944c4"
   },
   "outputs": [
    {
     "data": {
      "text/html": [
       "<div>\n",
       "<style scoped>\n",
       "    .dataframe tbody tr th:only-of-type {\n",
       "        vertical-align: middle;\n",
       "    }\n",
       "\n",
       "    .dataframe tbody tr th {\n",
       "        vertical-align: top;\n",
       "    }\n",
       "\n",
       "    .dataframe thead th {\n",
       "        text-align: right;\n",
       "    }\n",
       "</style>\n",
       "<table border=\"1\" class=\"dataframe\">\n",
       "  <thead>\n",
       "    <tr style=\"text-align: right;\">\n",
       "      <th></th>\n",
       "      <th>children</th>\n",
       "      <th>days_employed</th>\n",
       "      <th>dob_years</th>\n",
       "      <th>education</th>\n",
       "      <th>education_id</th>\n",
       "      <th>family_status</th>\n",
       "      <th>family_status_id</th>\n",
       "      <th>gender</th>\n",
       "      <th>income_type</th>\n",
       "      <th>debt</th>\n",
       "      <th>total_income</th>\n",
       "      <th>purpose</th>\n",
       "    </tr>\n",
       "  </thead>\n",
       "  <tbody>\n",
       "    <tr>\n",
       "      <th>0</th>\n",
       "      <td>1</td>\n",
       "      <td>-8437.673028</td>\n",
       "      <td>42</td>\n",
       "      <td>высшее</td>\n",
       "      <td>0</td>\n",
       "      <td>женат / замужем</td>\n",
       "      <td>0</td>\n",
       "      <td>F</td>\n",
       "      <td>сотрудник</td>\n",
       "      <td>0</td>\n",
       "      <td>253875.639453</td>\n",
       "      <td>покупка жилья</td>\n",
       "    </tr>\n",
       "    <tr>\n",
       "      <th>1</th>\n",
       "      <td>1</td>\n",
       "      <td>-4024.803754</td>\n",
       "      <td>36</td>\n",
       "      <td>среднее</td>\n",
       "      <td>1</td>\n",
       "      <td>женат / замужем</td>\n",
       "      <td>0</td>\n",
       "      <td>F</td>\n",
       "      <td>сотрудник</td>\n",
       "      <td>0</td>\n",
       "      <td>112080.014102</td>\n",
       "      <td>приобретение автомобиля</td>\n",
       "    </tr>\n",
       "    <tr>\n",
       "      <th>2</th>\n",
       "      <td>0</td>\n",
       "      <td>-5623.422610</td>\n",
       "      <td>33</td>\n",
       "      <td>Среднее</td>\n",
       "      <td>1</td>\n",
       "      <td>женат / замужем</td>\n",
       "      <td>0</td>\n",
       "      <td>M</td>\n",
       "      <td>сотрудник</td>\n",
       "      <td>0</td>\n",
       "      <td>145885.952297</td>\n",
       "      <td>покупка жилья</td>\n",
       "    </tr>\n",
       "    <tr>\n",
       "      <th>3</th>\n",
       "      <td>3</td>\n",
       "      <td>-4124.747207</td>\n",
       "      <td>32</td>\n",
       "      <td>среднее</td>\n",
       "      <td>1</td>\n",
       "      <td>женат / замужем</td>\n",
       "      <td>0</td>\n",
       "      <td>M</td>\n",
       "      <td>сотрудник</td>\n",
       "      <td>0</td>\n",
       "      <td>267628.550329</td>\n",
       "      <td>дополнительное образование</td>\n",
       "    </tr>\n",
       "    <tr>\n",
       "      <th>4</th>\n",
       "      <td>0</td>\n",
       "      <td>340266.072047</td>\n",
       "      <td>53</td>\n",
       "      <td>среднее</td>\n",
       "      <td>1</td>\n",
       "      <td>гражданский брак</td>\n",
       "      <td>1</td>\n",
       "      <td>F</td>\n",
       "      <td>пенсионер</td>\n",
       "      <td>0</td>\n",
       "      <td>158616.077870</td>\n",
       "      <td>сыграть свадьбу</td>\n",
       "    </tr>\n",
       "    <tr>\n",
       "      <th>5</th>\n",
       "      <td>0</td>\n",
       "      <td>-926.185831</td>\n",
       "      <td>27</td>\n",
       "      <td>высшее</td>\n",
       "      <td>0</td>\n",
       "      <td>гражданский брак</td>\n",
       "      <td>1</td>\n",
       "      <td>M</td>\n",
       "      <td>компаньон</td>\n",
       "      <td>0</td>\n",
       "      <td>255763.565419</td>\n",
       "      <td>покупка жилья</td>\n",
       "    </tr>\n",
       "    <tr>\n",
       "      <th>6</th>\n",
       "      <td>0</td>\n",
       "      <td>-2879.202052</td>\n",
       "      <td>43</td>\n",
       "      <td>высшее</td>\n",
       "      <td>0</td>\n",
       "      <td>женат / замужем</td>\n",
       "      <td>0</td>\n",
       "      <td>F</td>\n",
       "      <td>компаньон</td>\n",
       "      <td>0</td>\n",
       "      <td>240525.971920</td>\n",
       "      <td>операции с жильем</td>\n",
       "    </tr>\n",
       "    <tr>\n",
       "      <th>7</th>\n",
       "      <td>0</td>\n",
       "      <td>-152.779569</td>\n",
       "      <td>50</td>\n",
       "      <td>СРЕДНЕЕ</td>\n",
       "      <td>1</td>\n",
       "      <td>женат / замужем</td>\n",
       "      <td>0</td>\n",
       "      <td>M</td>\n",
       "      <td>сотрудник</td>\n",
       "      <td>0</td>\n",
       "      <td>135823.934197</td>\n",
       "      <td>образование</td>\n",
       "    </tr>\n",
       "    <tr>\n",
       "      <th>8</th>\n",
       "      <td>2</td>\n",
       "      <td>-6929.865299</td>\n",
       "      <td>35</td>\n",
       "      <td>ВЫСШЕЕ</td>\n",
       "      <td>0</td>\n",
       "      <td>гражданский брак</td>\n",
       "      <td>1</td>\n",
       "      <td>F</td>\n",
       "      <td>сотрудник</td>\n",
       "      <td>0</td>\n",
       "      <td>95856.832424</td>\n",
       "      <td>на проведение свадьбы</td>\n",
       "    </tr>\n",
       "    <tr>\n",
       "      <th>9</th>\n",
       "      <td>0</td>\n",
       "      <td>-2188.756445</td>\n",
       "      <td>41</td>\n",
       "      <td>среднее</td>\n",
       "      <td>1</td>\n",
       "      <td>женат / замужем</td>\n",
       "      <td>0</td>\n",
       "      <td>M</td>\n",
       "      <td>сотрудник</td>\n",
       "      <td>0</td>\n",
       "      <td>144425.938277</td>\n",
       "      <td>покупка жилья для семьи</td>\n",
       "    </tr>\n",
       "    <tr>\n",
       "      <th>10</th>\n",
       "      <td>2</td>\n",
       "      <td>-4171.483647</td>\n",
       "      <td>36</td>\n",
       "      <td>высшее</td>\n",
       "      <td>0</td>\n",
       "      <td>женат / замужем</td>\n",
       "      <td>0</td>\n",
       "      <td>M</td>\n",
       "      <td>компаньон</td>\n",
       "      <td>0</td>\n",
       "      <td>113943.491460</td>\n",
       "      <td>покупка недвижимости</td>\n",
       "    </tr>\n",
       "    <tr>\n",
       "      <th>11</th>\n",
       "      <td>0</td>\n",
       "      <td>-792.701887</td>\n",
       "      <td>40</td>\n",
       "      <td>среднее</td>\n",
       "      <td>1</td>\n",
       "      <td>женат / замужем</td>\n",
       "      <td>0</td>\n",
       "      <td>F</td>\n",
       "      <td>сотрудник</td>\n",
       "      <td>0</td>\n",
       "      <td>77069.234271</td>\n",
       "      <td>покупка коммерческой недвижимости</td>\n",
       "    </tr>\n",
       "    <tr>\n",
       "      <th>12</th>\n",
       "      <td>0</td>\n",
       "      <td>NaN</td>\n",
       "      <td>65</td>\n",
       "      <td>среднее</td>\n",
       "      <td>1</td>\n",
       "      <td>гражданский брак</td>\n",
       "      <td>1</td>\n",
       "      <td>M</td>\n",
       "      <td>пенсионер</td>\n",
       "      <td>0</td>\n",
       "      <td>NaN</td>\n",
       "      <td>сыграть свадьбу</td>\n",
       "    </tr>\n",
       "    <tr>\n",
       "      <th>13</th>\n",
       "      <td>0</td>\n",
       "      <td>-1846.641941</td>\n",
       "      <td>54</td>\n",
       "      <td>неоконченное высшее</td>\n",
       "      <td>2</td>\n",
       "      <td>женат / замужем</td>\n",
       "      <td>0</td>\n",
       "      <td>F</td>\n",
       "      <td>сотрудник</td>\n",
       "      <td>0</td>\n",
       "      <td>130458.228857</td>\n",
       "      <td>приобретение автомобиля</td>\n",
       "    </tr>\n",
       "    <tr>\n",
       "      <th>14</th>\n",
       "      <td>0</td>\n",
       "      <td>-1844.956182</td>\n",
       "      <td>56</td>\n",
       "      <td>высшее</td>\n",
       "      <td>0</td>\n",
       "      <td>гражданский брак</td>\n",
       "      <td>1</td>\n",
       "      <td>F</td>\n",
       "      <td>компаньон</td>\n",
       "      <td>1</td>\n",
       "      <td>165127.911772</td>\n",
       "      <td>покупка жилой недвижимости</td>\n",
       "    </tr>\n",
       "    <tr>\n",
       "      <th>15</th>\n",
       "      <td>1</td>\n",
       "      <td>-972.364419</td>\n",
       "      <td>26</td>\n",
       "      <td>среднее</td>\n",
       "      <td>1</td>\n",
       "      <td>женат / замужем</td>\n",
       "      <td>0</td>\n",
       "      <td>F</td>\n",
       "      <td>сотрудник</td>\n",
       "      <td>0</td>\n",
       "      <td>116820.904450</td>\n",
       "      <td>строительство собственной недвижимости</td>\n",
       "    </tr>\n",
       "    <tr>\n",
       "      <th>16</th>\n",
       "      <td>0</td>\n",
       "      <td>-1719.934226</td>\n",
       "      <td>35</td>\n",
       "      <td>среднее</td>\n",
       "      <td>1</td>\n",
       "      <td>женат / замужем</td>\n",
       "      <td>0</td>\n",
       "      <td>F</td>\n",
       "      <td>сотрудник</td>\n",
       "      <td>0</td>\n",
       "      <td>289202.704229</td>\n",
       "      <td>недвижимость</td>\n",
       "    </tr>\n",
       "    <tr>\n",
       "      <th>17</th>\n",
       "      <td>0</td>\n",
       "      <td>-2369.999720</td>\n",
       "      <td>33</td>\n",
       "      <td>высшее</td>\n",
       "      <td>0</td>\n",
       "      <td>гражданский брак</td>\n",
       "      <td>1</td>\n",
       "      <td>M</td>\n",
       "      <td>сотрудник</td>\n",
       "      <td>0</td>\n",
       "      <td>90410.586745</td>\n",
       "      <td>строительство недвижимости</td>\n",
       "    </tr>\n",
       "    <tr>\n",
       "      <th>18</th>\n",
       "      <td>0</td>\n",
       "      <td>400281.136913</td>\n",
       "      <td>53</td>\n",
       "      <td>среднее</td>\n",
       "      <td>1</td>\n",
       "      <td>вдовец / вдова</td>\n",
       "      <td>2</td>\n",
       "      <td>F</td>\n",
       "      <td>пенсионер</td>\n",
       "      <td>0</td>\n",
       "      <td>56823.777243</td>\n",
       "      <td>на покупку подержанного автомобиля</td>\n",
       "    </tr>\n",
       "    <tr>\n",
       "      <th>19</th>\n",
       "      <td>0</td>\n",
       "      <td>-10038.818549</td>\n",
       "      <td>48</td>\n",
       "      <td>СРЕДНЕЕ</td>\n",
       "      <td>1</td>\n",
       "      <td>в разводе</td>\n",
       "      <td>3</td>\n",
       "      <td>F</td>\n",
       "      <td>сотрудник</td>\n",
       "      <td>0</td>\n",
       "      <td>242831.107982</td>\n",
       "      <td>на покупку своего автомобиля</td>\n",
       "    </tr>\n",
       "  </tbody>\n",
       "</table>\n",
       "</div>"
      ],
      "text/plain": [
       "    children  days_employed  dob_years            education  education_id  \\\n",
       "0          1   -8437.673028         42               высшее             0   \n",
       "1          1   -4024.803754         36              среднее             1   \n",
       "2          0   -5623.422610         33              Среднее             1   \n",
       "3          3   -4124.747207         32              среднее             1   \n",
       "4          0  340266.072047         53              среднее             1   \n",
       "5          0    -926.185831         27               высшее             0   \n",
       "6          0   -2879.202052         43               высшее             0   \n",
       "7          0    -152.779569         50              СРЕДНЕЕ             1   \n",
       "8          2   -6929.865299         35               ВЫСШЕЕ             0   \n",
       "9          0   -2188.756445         41              среднее             1   \n",
       "10         2   -4171.483647         36               высшее             0   \n",
       "11         0    -792.701887         40              среднее             1   \n",
       "12         0            NaN         65              среднее             1   \n",
       "13         0   -1846.641941         54  неоконченное высшее             2   \n",
       "14         0   -1844.956182         56               высшее             0   \n",
       "15         1    -972.364419         26              среднее             1   \n",
       "16         0   -1719.934226         35              среднее             1   \n",
       "17         0   -2369.999720         33               высшее             0   \n",
       "18         0  400281.136913         53              среднее             1   \n",
       "19         0  -10038.818549         48              СРЕДНЕЕ             1   \n",
       "\n",
       "       family_status  family_status_id gender income_type  debt  \\\n",
       "0    женат / замужем                 0      F   сотрудник     0   \n",
       "1    женат / замужем                 0      F   сотрудник     0   \n",
       "2    женат / замужем                 0      M   сотрудник     0   \n",
       "3    женат / замужем                 0      M   сотрудник     0   \n",
       "4   гражданский брак                 1      F   пенсионер     0   \n",
       "5   гражданский брак                 1      M   компаньон     0   \n",
       "6    женат / замужем                 0      F   компаньон     0   \n",
       "7    женат / замужем                 0      M   сотрудник     0   \n",
       "8   гражданский брак                 1      F   сотрудник     0   \n",
       "9    женат / замужем                 0      M   сотрудник     0   \n",
       "10   женат / замужем                 0      M   компаньон     0   \n",
       "11   женат / замужем                 0      F   сотрудник     0   \n",
       "12  гражданский брак                 1      M   пенсионер     0   \n",
       "13   женат / замужем                 0      F   сотрудник     0   \n",
       "14  гражданский брак                 1      F   компаньон     1   \n",
       "15   женат / замужем                 0      F   сотрудник     0   \n",
       "16   женат / замужем                 0      F   сотрудник     0   \n",
       "17  гражданский брак                 1      M   сотрудник     0   \n",
       "18    вдовец / вдова                 2      F   пенсионер     0   \n",
       "19         в разводе                 3      F   сотрудник     0   \n",
       "\n",
       "     total_income                                 purpose  \n",
       "0   253875.639453                           покупка жилья  \n",
       "1   112080.014102                 приобретение автомобиля  \n",
       "2   145885.952297                           покупка жилья  \n",
       "3   267628.550329              дополнительное образование  \n",
       "4   158616.077870                         сыграть свадьбу  \n",
       "5   255763.565419                           покупка жилья  \n",
       "6   240525.971920                       операции с жильем  \n",
       "7   135823.934197                             образование  \n",
       "8    95856.832424                   на проведение свадьбы  \n",
       "9   144425.938277                 покупка жилья для семьи  \n",
       "10  113943.491460                    покупка недвижимости  \n",
       "11   77069.234271       покупка коммерческой недвижимости  \n",
       "12            NaN                         сыграть свадьбу  \n",
       "13  130458.228857                 приобретение автомобиля  \n",
       "14  165127.911772              покупка жилой недвижимости  \n",
       "15  116820.904450  строительство собственной недвижимости  \n",
       "16  289202.704229                            недвижимость  \n",
       "17   90410.586745              строительство недвижимости  \n",
       "18   56823.777243      на покупку подержанного автомобиля  \n",
       "19  242831.107982            на покупку своего автомобиля  "
      ]
     },
     "execution_count": 2,
     "metadata": {},
     "output_type": "execute_result"
    }
   ],
   "source": [
    "data.head(20)"
   ]
  },
  {
   "cell_type": "markdown",
   "id": "6755c599",
   "metadata": {
    "deletable": false,
    "editable": false,
    "id": "1c12e233"
   },
   "source": [
    "**Задание 3. Выведите основную информацию о датафрейме с помощью метода `info()`.**"
   ]
  },
  {
   "cell_type": "code",
   "execution_count": 3,
   "id": "fd795102",
   "metadata": {
    "deletable": false,
    "id": "2b757bca",
    "outputId": "15376089-8dad-46c9-b520-c05248d43158"
   },
   "outputs": [
    {
     "name": "stdout",
     "output_type": "stream",
     "text": [
      "<class 'pandas.core.frame.DataFrame'>\n",
      "RangeIndex: 21525 entries, 0 to 21524\n",
      "Data columns (total 12 columns):\n",
      " #   Column            Non-Null Count  Dtype  \n",
      "---  ------            --------------  -----  \n",
      " 0   children          21525 non-null  int64  \n",
      " 1   days_employed     19351 non-null  float64\n",
      " 2   dob_years         21525 non-null  int64  \n",
      " 3   education         21525 non-null  object \n",
      " 4   education_id      21525 non-null  int64  \n",
      " 5   family_status     21525 non-null  object \n",
      " 6   family_status_id  21525 non-null  int64  \n",
      " 7   gender            21525 non-null  object \n",
      " 8   income_type       21525 non-null  object \n",
      " 9   debt              21525 non-null  int64  \n",
      " 10  total_income      19351 non-null  float64\n",
      " 11  purpose           21525 non-null  object \n",
      "dtypes: float64(2), int64(5), object(5)\n",
      "memory usage: 2.0+ MB\n"
     ]
    }
   ],
   "source": [
    "data.info()"
   ]
  },
  {
   "cell_type": "markdown",
   "id": "a4bb13bd",
   "metadata": {
    "deletable": false,
    "editable": false,
    "id": "333ec665"
   },
   "source": [
    "## Предобработка данных"
   ]
  },
  {
   "cell_type": "markdown",
   "id": "ab8489bd",
   "metadata": {
    "deletable": false,
    "editable": false,
    "id": "02d92d53"
   },
   "source": [
    "### Удаление пропусков"
   ]
  },
  {
   "cell_type": "markdown",
   "id": "9c040fca",
   "metadata": {
    "deletable": false,
    "editable": false,
    "id": "cd84967c"
   },
   "source": [
    "**Задание 4. Выведите количество пропущенных значений для каждого столбца. Используйте комбинацию двух методов.**"
   ]
  },
  {
   "cell_type": "code",
   "execution_count": 4,
   "id": "45c30c21",
   "metadata": {
    "deletable": false,
    "id": "7f9b2309",
    "outputId": "81f4d817-781c-465c-ed15-91ce4446810d"
   },
   "outputs": [
    {
     "data": {
      "text/plain": [
       "children               0\n",
       "days_employed       2174\n",
       "dob_years              0\n",
       "education              0\n",
       "education_id           0\n",
       "family_status          0\n",
       "family_status_id       0\n",
       "gender                 0\n",
       "income_type            0\n",
       "debt                   0\n",
       "total_income        2174\n",
       "purpose                0\n",
       "dtype: int64"
      ]
     },
     "execution_count": 4,
     "metadata": {},
     "output_type": "execute_result"
    }
   ],
   "source": [
    "data.isna().sum()"
   ]
  },
  {
   "cell_type": "markdown",
   "id": "e6a2ddb3",
   "metadata": {
    "deletable": false,
    "editable": false,
    "id": "db86e27b"
   },
   "source": [
    "**Задание 5. В двух столбцах есть пропущенные значения. Один из них — `days_employed`. Пропуски в этом столбце вы обработаете на следующем этапе. Другой столбец с пропущенными значениями — `total_income` — хранит данные о доходах. На сумму дохода сильнее всего влияет тип занятости, поэтому заполнить пропуски в этом столбце нужно медианным значением по каждому типу из столбца `income_type`. Например, у человека с типом занятости `сотрудник` пропуск в столбце `total_income` должен быть заполнен медианным доходом среди всех записей с тем же типом.**"
   ]
  },
  {
   "cell_type": "code",
   "execution_count": 5,
   "id": "6f19ef4f",
   "metadata": {
    "deletable": false,
    "id": "42006a93"
   },
   "outputs": [],
   "source": [
    "for t in data['income_type'].unique():\n",
    "    data.loc[(data['income_type'] == t) & (data['total_income'].isna()), 'total_income'] = \\\n",
    "    data.loc[(data['income_type'] == t), 'total_income'].median()"
   ]
  },
  {
   "cell_type": "markdown",
   "id": "ae1027d4",
   "metadata": {
    "deletable": false,
    "editable": false,
    "id": "89da5ece"
   },
   "source": [
    "### Обработка аномальных значений"
   ]
  },
  {
   "cell_type": "markdown",
   "id": "0e0b511b",
   "metadata": {
    "deletable": false,
    "editable": false,
    "id": "57964554"
   },
   "source": [
    "**Задание 6. В данных могут встречаться артефакты (аномалии) — значения, которые не отражают действительность и появились по какой-то ошибке. таким артефактом будет отрицательное количество дней трудового стажа в столбце `days_employed`. Для реальных данных это нормально. Обработайте значения в этом столбце: замените все отрицательные значения положительными с помощью метода `abs()`.**"
   ]
  },
  {
   "cell_type": "code",
   "execution_count": 6,
   "id": "23a555c1",
   "metadata": {
    "deletable": false,
    "id": "f6f055bf"
   },
   "outputs": [],
   "source": [
    "data['days_employed'] = data['days_employed'].abs()"
   ]
  },
  {
   "cell_type": "markdown",
   "id": "e8e5621a",
   "metadata": {
    "deletable": false,
    "editable": false,
    "id": "6107dd2f"
   },
   "source": [
    "**Задание 7. Для каждого типа занятости выведите медианное значение трудового стажа `days_employed` в днях.**"
   ]
  },
  {
   "cell_type": "code",
   "execution_count": 7,
   "id": "58d3a472",
   "metadata": {
    "deletable": false,
    "id": "85a5faf6",
    "outputId": "801ef80e-522b-4668-f34e-565af7432bcf"
   },
   "outputs": [
    {
     "data": {
      "text/plain": [
       "income_type\n",
       "безработный        366413.652744\n",
       "в декрете            3296.759962\n",
       "госслужащий          2689.368353\n",
       "компаньон            1547.382223\n",
       "пенсионер          365213.306266\n",
       "предприниматель       520.848083\n",
       "сотрудник            1574.202821\n",
       "студент               578.751554\n",
       "Name: days_employed, dtype: float64"
      ]
     },
     "execution_count": 7,
     "metadata": {},
     "output_type": "execute_result"
    }
   ],
   "source": [
    "data.groupby('income_type')['days_employed'].agg('median')"
   ]
  },
  {
   "cell_type": "markdown",
   "id": "91405f91",
   "metadata": {
    "deletable": false,
    "editable": false,
    "id": "38d1a030"
   },
   "source": [
    "У двух типов (безработные и пенсионеры) получатся аномально большие значения. Исправить такие значения сложно, поэтому оставьте их как есть. Тем более этот столбец не понадобится вам для исследования."
   ]
  },
  {
   "cell_type": "markdown",
   "id": "d1a12a4e",
   "metadata": {
    "deletable": false,
    "editable": false,
    "id": "d8a9f147"
   },
   "source": [
    "**Задание 8. Выведите перечень уникальных значений столбца `children`.**"
   ]
  },
  {
   "cell_type": "code",
   "execution_count": 8,
   "id": "c670edfb",
   "metadata": {
    "deletable": false,
    "id": "ef5056eb",
    "outputId": "6975b15c-7f95-4697-d16d-a0c79b657b03"
   },
   "outputs": [
    {
     "data": {
      "text/plain": [
       "array([ 1,  0,  3,  2, -1,  4, 20,  5])"
      ]
     },
     "execution_count": 8,
     "metadata": {},
     "output_type": "execute_result"
    }
   ],
   "source": [
    "data['children'].unique()"
   ]
  },
  {
   "cell_type": "markdown",
   "id": "9fa83148",
   "metadata": {
    "deletable": false,
    "editable": false,
    "id": "40b9ebf2"
   },
   "source": [
    "**Задание 9. В столбце `children` есть два аномальных значения. Удалите строки, в которых встречаются такие аномальные значения из датафрейма `data`.**"
   ]
  },
  {
   "cell_type": "code",
   "execution_count": 9,
   "id": "26b46db4",
   "metadata": {
    "deletable": false,
    "id": "3ff9801d"
   },
   "outputs": [],
   "source": [
    "data = data[(data['children'] != -1) & (data['children'] != 20)]"
   ]
  },
  {
   "cell_type": "markdown",
   "id": "7f0c4f3d",
   "metadata": {
    "deletable": false,
    "editable": false,
    "id": "bbc4d0ce"
   },
   "source": [
    "**Задание 10. Ещё раз выведите перечень уникальных значений столбца `children`, чтобы убедиться, что артефакты удалены.**"
   ]
  },
  {
   "cell_type": "code",
   "execution_count": 10,
   "id": "bc6561e6",
   "metadata": {
    "deletable": false,
    "id": "ad4fa8b7",
    "outputId": "b2097101-d49d-44d9-901b-32a65c9463d1"
   },
   "outputs": [
    {
     "data": {
      "text/plain": [
       "array([1, 0, 3, 2, 4, 5])"
      ]
     },
     "execution_count": 10,
     "metadata": {},
     "output_type": "execute_result"
    }
   ],
   "source": [
    "data['children'].unique()"
   ]
  },
  {
   "cell_type": "markdown",
   "id": "ccbde885",
   "metadata": {
    "deletable": false,
    "editable": false,
    "id": "75440b63"
   },
   "source": [
    "### Удаление пропусков (продолжение)"
   ]
  },
  {
   "cell_type": "markdown",
   "id": "1ad9dce7",
   "metadata": {
    "deletable": false,
    "editable": false,
    "id": "f4ea573f"
   },
   "source": [
    "**Задание 11. Заполните пропуски в столбце `days_employed` медианными значениями по каждого типа занятости `income_type`.**"
   ]
  },
  {
   "cell_type": "code",
   "execution_count": 11,
   "id": "7a17f3b8",
   "metadata": {
    "deletable": false,
    "id": "af6b1a7e"
   },
   "outputs": [],
   "source": [
    "for t in data['income_type'].unique():\n",
    "    data.loc[(data['income_type'] == t) & (data['days_employed'].isna()), 'days_employed'] = \\\n",
    "    data.loc[(data['income_type'] == t), 'days_employed'].median()"
   ]
  },
  {
   "cell_type": "markdown",
   "id": "de2d1898",
   "metadata": {
    "deletable": false,
    "editable": false,
    "id": "2753f40d"
   },
   "source": [
    "**Задание 12. Убедитесь, что все пропуски заполнены. Проверьте себя и ещё раз выведите количество пропущенных значений для каждого столбца с помощью двух методов.**"
   ]
  },
  {
   "cell_type": "code",
   "execution_count": 12,
   "id": "5c8a0840",
   "metadata": {
    "deletable": false,
    "id": "55f78bc2",
    "outputId": "8da1e4e1-358e-4e87-98c9-f261bce0a7b2"
   },
   "outputs": [
    {
     "data": {
      "text/plain": [
       "children            0\n",
       "days_employed       0\n",
       "dob_years           0\n",
       "education           0\n",
       "education_id        0\n",
       "family_status       0\n",
       "family_status_id    0\n",
       "gender              0\n",
       "income_type         0\n",
       "debt                0\n",
       "total_income        0\n",
       "purpose             0\n",
       "dtype: int64"
      ]
     },
     "execution_count": 12,
     "metadata": {},
     "output_type": "execute_result"
    }
   ],
   "source": [
    "data.isna().sum()"
   ]
  },
  {
   "cell_type": "markdown",
   "id": "e573f79e",
   "metadata": {
    "deletable": false,
    "editable": false,
    "id": "ddc81e43"
   },
   "source": [
    "### Изменение типов данных"
   ]
  },
  {
   "cell_type": "markdown",
   "id": "90bc3e15",
   "metadata": {
    "deletable": false,
    "editable": false,
    "id": "42d19d24"
   },
   "source": [
    "**Задание 13. Замените вещественный тип данных в столбце `total_income` на целочисленный с помощью метода `astype()`.**"
   ]
  },
  {
   "cell_type": "code",
   "execution_count": 13,
   "id": "2d7b00a1",
   "metadata": {
    "deletable": false,
    "id": "920b65ad"
   },
   "outputs": [],
   "source": [
    "data['total_income'] = data['total_income'].astype(int)"
   ]
  },
  {
   "cell_type": "markdown",
   "id": "42391a37",
   "metadata": {
    "deletable": false,
    "editable": false,
    "id": "80c420ba"
   },
   "source": [
    "### Обработка дубликатов"
   ]
  },
  {
   "cell_type": "markdown",
   "id": "4b96cbb0",
   "metadata": {
    "deletable": false,
    "editable": false
   },
   "source": [
    "**Задание 14. Обработайте неявные дубликаты в столбце `education`. В этом столбце есть одни и те же значения, но записанные по-разному: с использованием заглавных и строчных букв. Приведите их к нижнему регистру. Проверьте остальные столбцы.**"
   ]
  },
  {
   "cell_type": "code",
   "execution_count": 14,
   "id": "5d13da6d",
   "metadata": {
    "deletable": false
   },
   "outputs": [],
   "source": [
    "data['education'] = data['education'].str.lower()"
   ]
  },
  {
   "cell_type": "markdown",
   "id": "b100a185",
   "metadata": {
    "deletable": false,
    "editable": false,
    "id": "dc587695"
   },
   "source": [
    "**Задание 15. Выведите на экран количество строк-дубликатов в данных. Если такие строки присутствуют, удалите их.**"
   ]
  },
  {
   "cell_type": "code",
   "execution_count": 15,
   "id": "9b9ea150",
   "metadata": {
    "deletable": false,
    "id": "3ee445e4",
    "outputId": "9684deba-1934-42d1-99e1-cda61740f822"
   },
   "outputs": [
    {
     "data": {
      "text/plain": [
       "71"
      ]
     },
     "execution_count": 15,
     "metadata": {},
     "output_type": "execute_result"
    }
   ],
   "source": [
    "data.duplicated().sum()"
   ]
  },
  {
   "cell_type": "code",
   "execution_count": 16,
   "id": "1b37c1fe",
   "metadata": {
    "deletable": false,
    "id": "8575fe05"
   },
   "outputs": [],
   "source": [
    "data = data.drop_duplicates()"
   ]
  },
  {
   "cell_type": "markdown",
   "id": "a79e1ec5",
   "metadata": {
    "deletable": false,
    "editable": false,
    "id": "9904cf55"
   },
   "source": [
    "### Категоризация данных"
   ]
  },
  {
   "cell_type": "markdown",
   "id": "a1f2c82d",
   "metadata": {
    "deletable": false,
    "editable": false,
    "id": "72fcc8a2"
   },
   "source": [
    "**Задание 16. На основании диапазонов, указанных ниже, создайте в датафрейме `data` столбец `total_income_category` с категориями:**\n",
    "\n",
    "- 0–30000 — `'E'`;\n",
    "- 30001–50000 — `'D'`;\n",
    "- 50001–200000 — `'C'`;\n",
    "- 200001–1000000 — `'B'`;\n",
    "- 1000001 и выше — `'A'`.\n",
    "\n",
    "\n",
    "**Например, кредитополучателю с доходом 25000 нужно назначить категорию `'E'`, а клиенту, получающему 235000, — `'B'`. Используйте собственную функцию с именем `categorize_income()` и метод `apply()`.**"
   ]
  },
  {
   "cell_type": "code",
   "execution_count": 17,
   "id": "0b6ba055",
   "metadata": {
    "deletable": false,
    "id": "e1771346"
   },
   "outputs": [],
   "source": [
    "def categorize_income(income):\n",
    "    try:\n",
    "        if 0 <= income <= 30000:\n",
    "            return 'E'\n",
    "        elif 30001 <= income <= 50000:\n",
    "            return 'D'\n",
    "        elif 50001 <= income <= 200000:\n",
    "            return 'C'\n",
    "        elif 200001 <= income <= 1000000:\n",
    "            return 'B'\n",
    "        elif income >= 1000001:\n",
    "            return 'A'\n",
    "    except:\n",
    "        pass"
   ]
  },
  {
   "cell_type": "code",
   "execution_count": 18,
   "id": "13b0be6f",
   "metadata": {
    "deletable": false,
    "id": "d5f3586d"
   },
   "outputs": [],
   "source": [
    "data['total_income_category'] = data['total_income'].apply(categorize_income)"
   ]
  },
  {
   "cell_type": "markdown",
   "id": "3bd7d982",
   "metadata": {
    "deletable": false,
    "editable": false,
    "id": "dde49b5c"
   },
   "source": [
    "**Задание 17. Выведите на экран перечень уникальных целей взятия кредита из столбца `purpose`.**"
   ]
  },
  {
   "cell_type": "code",
   "execution_count": 19,
   "id": "2b704a4e",
   "metadata": {
    "deletable": false,
    "id": "f67ce9b3",
    "outputId": "673c12d9-7d7e-4ae0-9812-c622c89dd244"
   },
   "outputs": [
    {
     "data": {
      "text/plain": [
       "array(['покупка жилья', 'приобретение автомобиля',\n",
       "       'дополнительное образование', 'сыграть свадьбу',\n",
       "       'операции с жильем', 'образование', 'на проведение свадьбы',\n",
       "       'покупка жилья для семьи', 'покупка недвижимости',\n",
       "       'покупка коммерческой недвижимости', 'покупка жилой недвижимости',\n",
       "       'строительство собственной недвижимости', 'недвижимость',\n",
       "       'строительство недвижимости', 'на покупку подержанного автомобиля',\n",
       "       'на покупку своего автомобиля',\n",
       "       'операции с коммерческой недвижимостью',\n",
       "       'строительство жилой недвижимости', 'жилье',\n",
       "       'операции со своей недвижимостью', 'автомобили',\n",
       "       'заняться образованием', 'сделка с подержанным автомобилем',\n",
       "       'получение образования', 'автомобиль', 'свадьба',\n",
       "       'получение дополнительного образования', 'покупка своего жилья',\n",
       "       'операции с недвижимостью', 'получение высшего образования',\n",
       "       'свой автомобиль', 'сделка с автомобилем',\n",
       "       'профильное образование', 'высшее образование',\n",
       "       'покупка жилья для сдачи', 'на покупку автомобиля', 'ремонт жилью',\n",
       "       'заняться высшим образованием'], dtype=object)"
      ]
     },
     "execution_count": 19,
     "metadata": {},
     "output_type": "execute_result"
    }
   ],
   "source": [
    "data['purpose'].unique()"
   ]
  },
  {
   "cell_type": "markdown",
   "id": "ea199762",
   "metadata": {
    "deletable": false,
    "editable": false,
    "id": "85d0aef0"
   },
   "source": [
    "**Задание 18. Создайте функцию, которая на основании данных из столбца `purpose` сформирует новый столбец `purpose_category`, в который войдут следующие категории:**\n",
    "\n",
    "- `'операции с автомобилем'`,\n",
    "- `'операции с недвижимостью'`,\n",
    "- `'проведение свадьбы'`,\n",
    "- `'получение образования'`.\n",
    "\n",
    "**Например, если в столбце `purpose` находится подстрока `'на покупку автомобиля'`, то в столбце `purpose_category` должна появиться строка `'операции с автомобилем'`.**\n",
    "\n",
    "**Используйте собственную функцию с именем `categorize_purpose()` и метод `apply()`. Изучите данные в столбце `purpose` и определите, какие подстроки помогут вам правильно определить категорию.**"
   ]
  },
  {
   "cell_type": "code",
   "execution_count": 20,
   "id": "c5635d77",
   "metadata": {
    "deletable": false,
    "id": "e149fab4"
   },
   "outputs": [],
   "source": [
    "def categorize_purpose(row):\n",
    "    try:\n",
    "        if 'автом' in row:\n",
    "            return 'операции с автомобилем'\n",
    "        elif 'жил' in row or 'недвиж' in row:\n",
    "            return 'операции с недвижимостью'\n",
    "        elif 'свад' in row:\n",
    "            return 'проведение свадьбы'\n",
    "        elif 'образов' in row:\n",
    "            return 'получение образования'\n",
    "    except:\n",
    "        return 'нет категории'"
   ]
  },
  {
   "cell_type": "code",
   "execution_count": 21,
   "id": "529096ea",
   "metadata": {
    "deletable": false,
    "id": "bf36e69b"
   },
   "outputs": [],
   "source": [
    "data['purpose_category'] = data['purpose'].apply(categorize_purpose)"
   ]
  },
  {
   "cell_type": "markdown",
   "id": "188939e7",
   "metadata": {
    "deletable": false,
    "editable": false,
    "id": "09b242bf"
   },
   "source": [
    "### Шаг 3. Исследуйте данные и ответьте на вопросы"
   ]
  },
  {
   "cell_type": "markdown",
   "id": "18e8161a",
   "metadata": {
    "deletable": false,
    "editable": false,
    "id": "c5d66278"
   },
   "source": [
    "#### 3.1 Есть ли зависимость между количеством детей и возвратом кредита в срок?"
   ]
  },
  {
   "cell_type": "code",
   "execution_count": 22,
   "id": "8fccb2ac",
   "metadata": {},
   "outputs": [],
   "source": [
    "#data.head(20)"
   ]
  },
  {
   "cell_type": "code",
   "execution_count": 23,
   "id": "cb25180c",
   "metadata": {
    "deletable": false,
    "id": "2cacfc4a"
   },
   "outputs": [
    {
     "data": {
      "text/html": [
       "<div>\n",
       "<style scoped>\n",
       "    .dataframe tbody tr th:only-of-type {\n",
       "        vertical-align: middle;\n",
       "    }\n",
       "\n",
       "    .dataframe tbody tr th {\n",
       "        vertical-align: top;\n",
       "    }\n",
       "\n",
       "    .dataframe thead th {\n",
       "        text-align: right;\n",
       "    }\n",
       "</style>\n",
       "<table border=\"1\" class=\"dataframe\">\n",
       "  <thead>\n",
       "    <tr style=\"text-align: right;\">\n",
       "      <th>children</th>\n",
       "      <th>0</th>\n",
       "      <th>1</th>\n",
       "      <th>2</th>\n",
       "      <th>3</th>\n",
       "      <th>4</th>\n",
       "      <th>5</th>\n",
       "    </tr>\n",
       "  </thead>\n",
       "  <tbody>\n",
       "    <tr>\n",
       "      <th>debt</th>\n",
       "      <td>0.075438</td>\n",
       "      <td>0.092346</td>\n",
       "      <td>0.094542</td>\n",
       "      <td>0.081818</td>\n",
       "      <td>0.097561</td>\n",
       "      <td>0.0</td>\n",
       "    </tr>\n",
       "  </tbody>\n",
       "</table>\n",
       "</div>"
      ],
      "text/plain": [
       "children         0         1         2         3         4    5\n",
       "debt      0.075438  0.092346  0.094542  0.081818  0.097561  0.0"
      ]
     },
     "metadata": {},
     "output_type": "display_data"
    }
   ],
   "source": [
    "#Прошлое решение\n",
    "child_and_debt = data.pivot_table(columns='children', values='debt', aggfunc='mean')\n",
    "display(child_and_debt)"
   ]
  },
  {
   "cell_type": "code",
   "execution_count": 24,
   "id": "9b7b8826",
   "metadata": {},
   "outputs": [
    {
     "data": {
      "text/html": [
       "<div>\n",
       "<style scoped>\n",
       "    .dataframe tbody tr th:only-of-type {\n",
       "        vertical-align: middle;\n",
       "    }\n",
       "\n",
       "    .dataframe tbody tr th {\n",
       "        vertical-align: top;\n",
       "    }\n",
       "\n",
       "    .dataframe thead tr th {\n",
       "        text-align: left;\n",
       "    }\n",
       "\n",
       "    .dataframe thead tr:last-of-type th {\n",
       "        text-align: right;\n",
       "    }\n",
       "</style>\n",
       "<table border=\"1\" class=\"dataframe\">\n",
       "  <thead>\n",
       "    <tr>\n",
       "      <th></th>\n",
       "      <th>len</th>\n",
       "      <th>mean</th>\n",
       "    </tr>\n",
       "    <tr>\n",
       "      <th></th>\n",
       "      <th>debt</th>\n",
       "      <th>debt</th>\n",
       "    </tr>\n",
       "    <tr>\n",
       "      <th>children</th>\n",
       "      <th></th>\n",
       "      <th></th>\n",
       "    </tr>\n",
       "  </thead>\n",
       "  <tbody>\n",
       "    <tr>\n",
       "      <th>0</th>\n",
       "      <td>14091</td>\n",
       "      <td>0.075438</td>\n",
       "    </tr>\n",
       "    <tr>\n",
       "      <th>1</th>\n",
       "      <td>4808</td>\n",
       "      <td>0.092346</td>\n",
       "    </tr>\n",
       "    <tr>\n",
       "      <th>2</th>\n",
       "      <td>2052</td>\n",
       "      <td>0.094542</td>\n",
       "    </tr>\n",
       "    <tr>\n",
       "      <th>3</th>\n",
       "      <td>330</td>\n",
       "      <td>0.081818</td>\n",
       "    </tr>\n",
       "    <tr>\n",
       "      <th>4</th>\n",
       "      <td>41</td>\n",
       "      <td>0.097561</td>\n",
       "    </tr>\n",
       "    <tr>\n",
       "      <th>5</th>\n",
       "      <td>9</td>\n",
       "      <td>0.000000</td>\n",
       "    </tr>\n",
       "  </tbody>\n",
       "</table>\n",
       "</div>"
      ],
      "text/plain": [
       "            len      mean\n",
       "           debt      debt\n",
       "children                 \n",
       "0         14091  0.075438\n",
       "1          4808  0.092346\n",
       "2          2052  0.094542\n",
       "3           330  0.081818\n",
       "4            41  0.097561\n",
       "5             9  0.000000"
      ]
     },
     "metadata": {},
     "output_type": "display_data"
    }
   ],
   "source": [
    "# Ваш код будет здесь. Вы можете создавать новые ячейки.\n",
    "child_and_debt = data.pivot_table(index=['children'], values='debt', aggfunc=[len, 'mean'])\n",
    "display(child_and_debt)"
   ]
  },
  {
   "cell_type": "markdown",
   "id": "7367dc19",
   "metadata": {
    "deletable": false,
    "id": "3a6b99ec"
   },
   "source": [
    "**Вывод:**  Клиенты с детьми менее надежные заемщики, чем без детей. Люди с тремя детьми - статистически чаще отдают кредиты, чем с двумя, тремя и даже с 4 детьми. Люди без детей в меньшей степени имеют какие-либо кредитные задолженности. Людей с пятью детьми не хватает для правильной оценки. Люди с четырями детьми чаще других имеют задолженности. Видимо потому что эти люди не умеют останавливаться. (последнее предложение шутка)<font color='#31708f'> (Исправлено) </font>   "
   ]
  },
  {
   "cell_type": "markdown",
   "id": "93fff79a",
   "metadata": {},
   "source": [
    "<div style=\"border-radius: 15px; box-shadow: 4px 4px 4px; border: 1px solid \" class=\"alert alert-info\" >\n",
    "<h2> Света прости, я случайно удалил твой комментарий 🥲</h2>\n",
    "    \n",
    "Я случайно удалил комментарии  к  первому заданию, а ctrl+z не работает. Прошу прощение. Нужно было добавить количество людей в каждой группе и исправить вывод.\n",
    "**У меня вопрос:** как можно добавить количество людей к прошлой таблице?\n",
    "</div>"
   ]
  },
  {
   "attachments": {
    "image.png": {
     "image/png": "[encoded data removed]"
    }
   },
   "cell_type": "markdown",
   "id": "ac66b8b0",
   "metadata": {},
   "source": [
    "<div class=\"alert alert-success\" style=\"border-radius: 15px; box-shadow: 4px 4px 4px; border: 1px solid\">\n",
    "<h2> Комментарий ревьюера 2 ✔️ </h2>\n",
    "    \n",
    "- Вернуть удаленный комментарий можно просто клавишей Z. Или через меню. \n",
    "    \n",
    " \n",
    "    \n",
    "- Добавить размеры групп в твой первый вариант можно с помощью применения еще одного метода агрегирования (код ниже). \n",
    "    \n",
    "    \n",
    "    \n",
    "![image.png](attachment:image.png)    \n",
    "</div>"
   ]
  },
  {
   "cell_type": "code",
   "execution_count": 26,
   "id": "f668981e",
   "metadata": {},
   "outputs": [
    {
     "data": {
      "text/html": [
       "<div>\n",
       "<style scoped>\n",
       "    .dataframe tbody tr th:only-of-type {\n",
       "        vertical-align: middle;\n",
       "    }\n",
       "\n",
       "    .dataframe tbody tr th {\n",
       "        vertical-align: top;\n",
       "    }\n",
       "\n",
       "    .dataframe thead tr th {\n",
       "        text-align: left;\n",
       "    }\n",
       "\n",
       "    .dataframe thead tr:last-of-type th {\n",
       "        text-align: right;\n",
       "    }\n",
       "</style>\n",
       "<table border=\"1\" class=\"dataframe\">\n",
       "  <thead>\n",
       "    <tr>\n",
       "      <th></th>\n",
       "      <th>mean</th>\n",
       "      <th>count</th>\n",
       "    </tr>\n",
       "    <tr>\n",
       "      <th></th>\n",
       "      <th>debt</th>\n",
       "      <th>debt</th>\n",
       "    </tr>\n",
       "    <tr>\n",
       "      <th>children</th>\n",
       "      <th></th>\n",
       "      <th></th>\n",
       "    </tr>\n",
       "  </thead>\n",
       "  <tbody>\n",
       "    <tr>\n",
       "      <th>0</th>\n",
       "      <td>0.075438</td>\n",
       "      <td>14091</td>\n",
       "    </tr>\n",
       "    <tr>\n",
       "      <th>1</th>\n",
       "      <td>0.092346</td>\n",
       "      <td>4808</td>\n",
       "    </tr>\n",
       "    <tr>\n",
       "      <th>2</th>\n",
       "      <td>0.094542</td>\n",
       "      <td>2052</td>\n",
       "    </tr>\n",
       "    <tr>\n",
       "      <th>3</th>\n",
       "      <td>0.081818</td>\n",
       "      <td>330</td>\n",
       "    </tr>\n",
       "    <tr>\n",
       "      <th>4</th>\n",
       "      <td>0.097561</td>\n",
       "      <td>41</td>\n",
       "    </tr>\n",
       "    <tr>\n",
       "      <th>5</th>\n",
       "      <td>0.000000</td>\n",
       "      <td>9</td>\n",
       "    </tr>\n",
       "  </tbody>\n",
       "</table>\n",
       "</div>"
      ],
      "text/plain": [
       "              mean  count\n",
       "              debt   debt\n",
       "children                 \n",
       "0         0.075438  14091\n",
       "1         0.092346   4808\n",
       "2         0.094542   2052\n",
       "3         0.081818    330\n",
       "4         0.097561     41\n",
       "5         0.000000      9"
      ]
     },
     "execution_count": 26,
     "metadata": {},
     "output_type": "execute_result"
    }
   ],
   "source": [
    "# КОД РЕВЬЮЕРА 2 \n",
    "\n",
    "data.pivot_table(index='children', values='debt', aggfunc=['mean', 'count'])"
   ]
  },
  {
   "cell_type": "markdown",
   "id": "ef1c3d5c",
   "metadata": {},
   "source": [
    "<div class=\"alert alert-success\" style=\"border-radius: 15px; box-shadow: 4px 4px 4px; border: 1px solid\">\n",
    "<h2> Комментарий ревьюера 2 ✔️ </h2>\n",
    "    \n",
    "И на всякий случай продублирую код, который был ранее: \n",
    "</div>"
   ]
  },
  {
   "cell_type": "code",
   "execution_count": 27,
   "id": "d5096eb4",
   "metadata": {},
   "outputs": [
    {
     "data": {
      "text/html": [
       "<div>\n",
       "<style scoped>\n",
       "    .dataframe tbody tr th:only-of-type {\n",
       "        vertical-align: middle;\n",
       "    }\n",
       "\n",
       "    .dataframe tbody tr th {\n",
       "        vertical-align: top;\n",
       "    }\n",
       "\n",
       "    .dataframe thead th {\n",
       "        text-align: right;\n",
       "    }\n",
       "</style>\n",
       "<table border=\"1\" class=\"dataframe\">\n",
       "  <thead>\n",
       "    <tr style=\"text-align: right;\">\n",
       "      <th></th>\n",
       "      <th>count</th>\n",
       "      <th>sum</th>\n",
       "      <th>mean</th>\n",
       "    </tr>\n",
       "    <tr>\n",
       "      <th>children</th>\n",
       "      <th></th>\n",
       "      <th></th>\n",
       "      <th></th>\n",
       "    </tr>\n",
       "  </thead>\n",
       "  <tbody>\n",
       "    <tr>\n",
       "      <th>0</th>\n",
       "      <td>14091</td>\n",
       "      <td>1063</td>\n",
       "      <td>0.075438</td>\n",
       "    </tr>\n",
       "    <tr>\n",
       "      <th>1</th>\n",
       "      <td>4808</td>\n",
       "      <td>444</td>\n",
       "      <td>0.092346</td>\n",
       "    </tr>\n",
       "    <tr>\n",
       "      <th>2</th>\n",
       "      <td>2052</td>\n",
       "      <td>194</td>\n",
       "      <td>0.094542</td>\n",
       "    </tr>\n",
       "    <tr>\n",
       "      <th>3</th>\n",
       "      <td>330</td>\n",
       "      <td>27</td>\n",
       "      <td>0.081818</td>\n",
       "    </tr>\n",
       "    <tr>\n",
       "      <th>4</th>\n",
       "      <td>41</td>\n",
       "      <td>4</td>\n",
       "      <td>0.097561</td>\n",
       "    </tr>\n",
       "    <tr>\n",
       "      <th>5</th>\n",
       "      <td>9</td>\n",
       "      <td>0</td>\n",
       "      <td>0.000000</td>\n",
       "    </tr>\n",
       "  </tbody>\n",
       "</table>\n",
       "</div>"
      ],
      "text/plain": [
       "          count   sum      mean\n",
       "children                       \n",
       "0         14091  1063  0.075438\n",
       "1          4808   444  0.092346\n",
       "2          2052   194  0.094542\n",
       "3           330    27  0.081818\n",
       "4            41     4  0.097561\n",
       "5             9     0  0.000000"
      ]
     },
     "execution_count": 27,
     "metadata": {},
     "output_type": "execute_result"
    }
   ],
   "source": [
    "# КОД РЕВЬЮЕРА\n",
    "\n",
    "data.groupby('children')['debt'].agg(['count','sum','mean'])"
   ]
  },
  {
   "cell_type": "code",
   "execution_count": 28,
   "id": "c5322e90",
   "metadata": {},
   "outputs": [
    {
     "data": {
      "text/html": [
       "<div>\n",
       "<style scoped>\n",
       "    .dataframe tbody tr th:only-of-type {\n",
       "        vertical-align: middle;\n",
       "    }\n",
       "\n",
       "    .dataframe tbody tr th {\n",
       "        vertical-align: top;\n",
       "    }\n",
       "\n",
       "    .dataframe thead th {\n",
       "        text-align: right;\n",
       "    }\n",
       "</style>\n",
       "<table border=\"1\" class=\"dataframe\">\n",
       "  <thead>\n",
       "    <tr style=\"text-align: right;\">\n",
       "      <th></th>\n",
       "      <th>count</th>\n",
       "      <th>sum</th>\n",
       "      <th>my_mean</th>\n",
       "    </tr>\n",
       "    <tr>\n",
       "      <th>children</th>\n",
       "      <th></th>\n",
       "      <th></th>\n",
       "      <th></th>\n",
       "    </tr>\n",
       "  </thead>\n",
       "  <tbody>\n",
       "    <tr>\n",
       "      <th>0</th>\n",
       "      <td>14091</td>\n",
       "      <td>1063</td>\n",
       "      <td>7.543822</td>\n",
       "    </tr>\n",
       "    <tr>\n",
       "      <th>1</th>\n",
       "      <td>4808</td>\n",
       "      <td>444</td>\n",
       "      <td>9.234609</td>\n",
       "    </tr>\n",
       "    <tr>\n",
       "      <th>2</th>\n",
       "      <td>2052</td>\n",
       "      <td>194</td>\n",
       "      <td>9.454191</td>\n",
       "    </tr>\n",
       "    <tr>\n",
       "      <th>3</th>\n",
       "      <td>330</td>\n",
       "      <td>27</td>\n",
       "      <td>8.181818</td>\n",
       "    </tr>\n",
       "    <tr>\n",
       "      <th>4</th>\n",
       "      <td>41</td>\n",
       "      <td>4</td>\n",
       "      <td>9.756098</td>\n",
       "    </tr>\n",
       "    <tr>\n",
       "      <th>5</th>\n",
       "      <td>9</td>\n",
       "      <td>0</td>\n",
       "      <td>0.000000</td>\n",
       "    </tr>\n",
       "  </tbody>\n",
       "</table>\n",
       "</div>"
      ],
      "text/plain": [
       "          count   sum   my_mean\n",
       "children                       \n",
       "0         14091  1063  7.543822\n",
       "1          4808   444  9.234609\n",
       "2          2052   194  9.454191\n",
       "3           330    27  8.181818\n",
       "4            41     4  9.756098\n",
       "5             9     0  0.000000"
      ]
     },
     "execution_count": 28,
     "metadata": {},
     "output_type": "execute_result"
    }
   ],
   "source": [
    "# КОД РЕВЬЮЕРА\n",
    "\n",
    "def my_mean(x): return x.mean()*100\n",
    "\n",
    "data.groupby('children')['debt'].agg(['count', 'sum', my_mean])"
   ]
  },
  {
   "cell_type": "code",
   "execution_count": 29,
   "id": "f4d8babc",
   "metadata": {},
   "outputs": [
    {
     "data": {
      "text/html": [
       "<div>\n",
       "<style scoped>\n",
       "    .dataframe tbody tr th:only-of-type {\n",
       "        vertical-align: middle;\n",
       "    }\n",
       "\n",
       "    .dataframe tbody tr th {\n",
       "        vertical-align: top;\n",
       "    }\n",
       "\n",
       "    .dataframe thead th {\n",
       "        text-align: right;\n",
       "    }\n",
       "</style>\n",
       "<table border=\"1\" class=\"dataframe\">\n",
       "  <thead>\n",
       "    <tr style=\"text-align: right;\">\n",
       "      <th></th>\n",
       "      <th>count</th>\n",
       "      <th>sum</th>\n",
       "      <th>my_mean</th>\n",
       "    </tr>\n",
       "    <tr>\n",
       "      <th>children</th>\n",
       "      <th></th>\n",
       "      <th></th>\n",
       "      <th></th>\n",
       "    </tr>\n",
       "  </thead>\n",
       "  <tbody>\n",
       "    <tr>\n",
       "      <th>0</th>\n",
       "      <td>14091</td>\n",
       "      <td>1063</td>\n",
       "      <td>7.54%</td>\n",
       "    </tr>\n",
       "    <tr>\n",
       "      <th>1</th>\n",
       "      <td>4808</td>\n",
       "      <td>444</td>\n",
       "      <td>9.23%</td>\n",
       "    </tr>\n",
       "    <tr>\n",
       "      <th>2</th>\n",
       "      <td>2052</td>\n",
       "      <td>194</td>\n",
       "      <td>9.45%</td>\n",
       "    </tr>\n",
       "    <tr>\n",
       "      <th>3</th>\n",
       "      <td>330</td>\n",
       "      <td>27</td>\n",
       "      <td>8.18%</td>\n",
       "    </tr>\n",
       "    <tr>\n",
       "      <th>4</th>\n",
       "      <td>41</td>\n",
       "      <td>4</td>\n",
       "      <td>9.76%</td>\n",
       "    </tr>\n",
       "    <tr>\n",
       "      <th>5</th>\n",
       "      <td>9</td>\n",
       "      <td>0</td>\n",
       "      <td>0.00%</td>\n",
       "    </tr>\n",
       "  </tbody>\n",
       "</table>\n",
       "</div>"
      ],
      "text/plain": [
       "          count   sum my_mean\n",
       "children                     \n",
       "0         14091  1063  7.54% \n",
       "1          4808   444  9.23% \n",
       "2          2052   194  9.45% \n",
       "3           330    27  8.18% \n",
       "4            41     4  9.76% \n",
       "5             9     0  0.00% "
      ]
     },
     "execution_count": 29,
     "metadata": {},
     "output_type": "execute_result"
    }
   ],
   "source": [
    "# КОД РЕВЬЮЕРА\n",
    "\n",
    "def my_mean(x): return '{:.2%} '.format(x.mean())\n",
    "\n",
    "data.groupby('children')['debt'].agg(['count', 'sum', my_mean])"
   ]
  },
  {
   "cell_type": "markdown",
   "id": "97e6f88a",
   "metadata": {
    "deletable": false,
    "editable": false,
    "id": "97be82ca"
   },
   "source": [
    "#### 3.2 Есть ли зависимость между семейным положением и возвратом кредита в срок?"
   ]
  },
  {
   "cell_type": "code",
   "execution_count": 34,
   "id": "c62168eb",
   "metadata": {
    "deletable": false,
    "id": "dc3f7ee8"
   },
   "outputs": [
    {
     "data": {
      "text/html": [
       "<div>\n",
       "<style scoped>\n",
       "    .dataframe tbody tr th:only-of-type {\n",
       "        vertical-align: middle;\n",
       "    }\n",
       "\n",
       "    .dataframe tbody tr th {\n",
       "        vertical-align: top;\n",
       "    }\n",
       "\n",
       "    .dataframe thead th {\n",
       "        text-align: right;\n",
       "    }\n",
       "</style>\n",
       "<table border=\"1\" class=\"dataframe\">\n",
       "  <thead>\n",
       "    <tr style=\"text-align: right;\">\n",
       "      <th>family_status</th>\n",
       "      <th>Не женат / не замужем</th>\n",
       "      <th>в разводе</th>\n",
       "      <th>вдовец / вдова</th>\n",
       "      <th>гражданский брак</th>\n",
       "      <th>женат / замужем</th>\n",
       "    </tr>\n",
       "  </thead>\n",
       "  <tbody>\n",
       "    <tr>\n",
       "      <th>debt</th>\n",
       "      <td>0.097639</td>\n",
       "      <td>0.070648</td>\n",
       "      <td>0.066246</td>\n",
       "      <td>0.09313</td>\n",
       "      <td>0.075606</td>\n",
       "    </tr>\n",
       "  </tbody>\n",
       "</table>\n",
       "</div>"
      ],
      "text/plain": [
       "family_status  Не женат / не замужем  в разводе  вдовец / вдова  \\\n",
       "debt                        0.097639   0.070648        0.066246   \n",
       "\n",
       "family_status  гражданский брак  женат / замужем  \n",
       "debt                    0.09313         0.075606  "
      ]
     },
     "metadata": {},
     "output_type": "display_data"
    }
   ],
   "source": [
    "# Ваш код будет здесь. Вы можете создавать новые ячейки.\n",
    "family_and_debt = data.pivot_table(columns='family_status', values='debt', aggfunc='mean')\n",
    "display(family_and_debt)"
   ]
  },
  {
   "cell_type": "markdown",
   "id": "a42d3975",
   "metadata": {
    "deletable": false,
    "id": "1cef7837"
   },
   "source": [
    "**Вывод:** Неженатые и незамужние, а также люди находящихся в гражданском браке, чаще имеют задолженность по сравнению с другими людьми, которые имеют другие семейные статусы: в разводе, вдовцы, женатые и замужние. Вдовцы и вдовы реже имеют какие-либо кредитные задолженности, а люди не состоявшие никогда в браке чаще других.  "
   ]
  },
  {
   "cell_type": "markdown",
   "id": "2603a7c1",
   "metadata": {},
   "source": [
    "<div class=\"alert alert-success\" style=\"border-radius: 15px; box-shadow: 4px 4px 4px; border: 1px solid \">\n",
    "<h2> Комментарий ревьюера  ✔️</h2>\n",
    "    \n",
    "Овдовевшие это, как правило,  возрастные люди, а они более ответственные. Да и скорее всего у них уже есть взрослые дети, которые могут помогать с выплатами. В целом, можно сказать так: самые безответственные те, кто никогда не был в браке. \n",
    "</div>\n"
   ]
  },
  {
   "cell_type": "markdown",
   "id": "9d349b84",
   "metadata": {
    "deletable": false,
    "editable": false,
    "id": "1e8b2fca"
   },
   "source": [
    "#### 3.3 Есть ли зависимость между уровнем дохода и возвратом кредита в срок?"
   ]
  },
  {
   "cell_type": "markdown",
   "id": "3e9fd493",
   "metadata": {},
   "source": [
    "- 0 – 30 000 — `'E'`;\n",
    "- 30 001 – 50 000 — `'D'`;\n",
    "- 50 001 – 200 000 — `'C'`;\n",
    "- 200 001 – 1 000 000 — `'B'`;\n",
    "- 1 000 001 и выше — `'A'`."
   ]
  },
  {
   "cell_type": "code",
   "execution_count": 46,
   "id": "88e26caa",
   "metadata": {
    "deletable": false,
    "id": "cd7e3720"
   },
   "outputs": [
    {
     "data": {
      "text/html": [
       "<div>\n",
       "<style scoped>\n",
       "    .dataframe tbody tr th:only-of-type {\n",
       "        vertical-align: middle;\n",
       "    }\n",
       "\n",
       "    .dataframe tbody tr th {\n",
       "        vertical-align: top;\n",
       "    }\n",
       "\n",
       "    .dataframe thead th {\n",
       "        text-align: right;\n",
       "    }\n",
       "</style>\n",
       "<table border=\"1\" class=\"dataframe\">\n",
       "  <thead>\n",
       "    <tr style=\"text-align: right;\">\n",
       "      <th>total_income_category</th>\n",
       "      <th>A</th>\n",
       "      <th>B</th>\n",
       "      <th>C</th>\n",
       "      <th>D</th>\n",
       "      <th>E</th>\n",
       "    </tr>\n",
       "  </thead>\n",
       "  <tbody>\n",
       "    <tr>\n",
       "      <th>debt</th>\n",
       "      <td>0.08</td>\n",
       "      <td>0.070602</td>\n",
       "      <td>0.084982</td>\n",
       "      <td>0.060172</td>\n",
       "      <td>0.090909</td>\n",
       "    </tr>\n",
       "  </tbody>\n",
       "</table>\n",
       "</div>"
      ],
      "text/plain": [
       "total_income_category     A         B         C         D         E\n",
       "debt                   0.08  0.070602  0.084982  0.060172  0.090909"
      ]
     },
     "metadata": {},
     "output_type": "display_data"
    }
   ],
   "source": [
    "# Ваш код будет здесь. Вы можете создавать новые ячейки.\n",
    "income_and_debt = data.pivot_table(columns=['total_income_category'], values='debt', aggfunc='mean')\n",
    "display(income_and_debt)"
   ]
  },
  {
   "cell_type": "markdown",
   "id": "c4f5935c",
   "metadata": {
    "deletable": false,
    "id": "e8593def"
   },
   "source": [
    "**Вывод:** Люди с доходом менее 30 000₽, чаще других имеют задолженность. Люди с доходом от 30 000₽ до 50 000₽ в меньшей степени склонны не оплачивать во время кредиты. Прямой зависимости от суммы дохода к задолженности по кредитам - нет. Т.е. нет такого, что человек чем больше зарабатывает, тем он более вероятнее будет вовремя платить по кредиту. Люди с доходом более 1 000 000₽ чаще имеют задолженности, чем люди с доходом меньше, кроме людей с доходом от 50 000₽ до 200 000₽.<font color='#31708f'> (Исправлено) </font>   "
   ]
  },
  {
   "cell_type": "markdown",
   "id": "a848cd1d",
   "metadata": {},
   "source": [
    "<div class=\"alert alert-danger\" style=\"border-radius: 15px; box-shadow: 4px 4px 4px; border: 1px solid \">\n",
    "<b> Комментарий ревьюера  ❌</b>\n",
    "    \n",
    "\n",
    "\n",
    "- Если одна группа в среднем чаще возвращет в срок, а другая реже, значит ли это, что зависимости нет? \n",
    "    \n",
    "    \n",
    "    \n",
    "- \n",
    "> Люди с доходом более 1 000 000₽, реже всех имеют кредитные задолженности.\n",
    "    \n",
    "    \n",
    "Разве? \n",
    "</div>\n",
    "\n",
    "\n",
    "<div class=\"alert alert-success\" style=\"border-radius: 15px; box-shadow: 4px 4px 4px; border: 1px solid \">\n",
    "<h2> Комментарий ревьюера 2 ✔️</h2>\n",
    "    \n",
    "Конечно, предложенное заказчиком разбиение не самое понятное. Но похоже, что низкий доход это неблагоприятный фактор.\n",
    "\n",
    "</div>"
   ]
  },
  {
   "cell_type": "markdown",
   "id": "58c94297",
   "metadata": {
    "deletable": false,
    "editable": false,
    "id": "99ecbd1f"
   },
   "source": [
    "#### 3.4 Как разные цели кредита влияют на его возврат в срок?"
   ]
  },
  {
   "cell_type": "code",
   "execution_count": 26,
   "id": "31298edc",
   "metadata": {
    "deletable": false,
    "id": "2b687290"
   },
   "outputs": [
    {
     "data": {
      "text/html": [
       "<div>\n",
       "<style scoped>\n",
       "    .dataframe tbody tr th:only-of-type {\n",
       "        vertical-align: middle;\n",
       "    }\n",
       "\n",
       "    .dataframe tbody tr th {\n",
       "        vertical-align: top;\n",
       "    }\n",
       "\n",
       "    .dataframe thead th {\n",
       "        text-align: right;\n",
       "    }\n",
       "</style>\n",
       "<table border=\"1\" class=\"dataframe\">\n",
       "  <thead>\n",
       "    <tr style=\"text-align: right;\">\n",
       "      <th>purpose_category</th>\n",
       "      <th>операции с автомобилем</th>\n",
       "      <th>операции с недвижимостью</th>\n",
       "      <th>получение образования</th>\n",
       "      <th>проведение свадьбы</th>\n",
       "    </tr>\n",
       "  </thead>\n",
       "  <tbody>\n",
       "    <tr>\n",
       "      <th>debt</th>\n",
       "      <td>0.09348</td>\n",
       "      <td>0.072551</td>\n",
       "      <td>0.092528</td>\n",
       "      <td>0.079118</td>\n",
       "    </tr>\n",
       "  </tbody>\n",
       "</table>\n",
       "</div>"
      ],
      "text/plain": [
       "purpose_category  операции с автомобилем  операции с недвижимостью  \\\n",
       "debt                             0.09348                  0.072551   \n",
       "\n",
       "purpose_category  получение образования  проведение свадьбы  \n",
       "debt                           0.092528            0.079118  "
      ]
     },
     "metadata": {},
     "output_type": "display_data"
    }
   ],
   "source": [
    "# Ваш код будет здесь. Вы можете создавать новые ячейки.\n",
    "purpose_and_debt = data.pivot_table(columns=['purpose_category'], values='debt', aggfunc='mean')\n",
    "display(purpose_and_debt)"
   ]
  },
  {
   "cell_type": "markdown",
   "id": "8474bd03",
   "metadata": {
    "deletable": false,
    "id": "b4bb2ce6"
   },
   "source": [
    "**Вывод:** Люди указавшие в целях приобретения кредита операции с недвижимостью или для свадьбы в меньшей степени имеют задолженности. Бравшие кредит на недвижимость чаще не имеют задолженности. Вероятнее всего из-за цен на недвижимость, люди в меньшей степени здесь склонны к импульсивным покупкам и рассчитывают свой бюджет.  \n",
    "Те кто выбирают операции с автомобилем и получением образования - чаще других групп имеют задолженности.\n",
    " <font color='#31708f'> (Исправлено) </font> "
   ]
  },
  {
   "cell_type": "markdown",
   "id": "18e0babb",
   "metadata": {},
   "source": [
    "<div class=\"alert alert-warning\" style=\"border-radius: 15px; box-shadow: 4px 4px 4px; border: 1px solid \">\n",
    "<b> Комментарий ревьюера  ⚠️</b>\n",
    "    \n",
    "Не очень очевидно, что в данном случае подразумевается под статистической разницей. </div>\n",
    "\n",
    "\n",
    "<div class=\"alert alert-success\" style=\"border-radius: 15px; box-shadow: 4px 4px 4px; border: 1px solid \">\n",
    "<h2> Комментарий ревьюера 2 ✔️</h2>\n",
    "    \n",
    "Хорошо.\n",
    "</div>"
   ]
  },
  {
   "cell_type": "markdown",
   "id": "35ba902a",
   "metadata": {
    "deletable": false,
    "editable": false,
    "id": "09c3ac4c"
   },
   "source": [
    "#### 3.5 Приведите возможные причины появления пропусков в исходных данных."
   ]
  },
  {
   "cell_type": "markdown",
   "id": "71765dba",
   "metadata": {
    "deletable": false,
    "id": "9da2ceda"
   },
   "source": [
    "*Ответ:* Неправильное заполнения формы физическими лицами(т.е. человеческий фактор), а также ошибки в базе данных вызваны техническими, которые возникают при обработке."
   ]
  },
  {
   "cell_type": "markdown",
   "id": "509b616f",
   "metadata": {},
   "source": [
    "<div class=\"alert alert-success\" style=\"border-radius: 15px; box-shadow: 4px 4px 4px; border: 1px solid \">\n",
    "<h2> Комментарий ревьюера  ✔️</h2>\n",
    "\n",
    "Скорее всего, пропуски возникли случайно, иначе эти люди не получили бы кредит. Если, конечно, нельзя взять кредит на недвижимость без указания этой информации. \n",
    "    \n",
    "   \n",
    "</div>\n"
   ]
  },
  {
   "cell_type": "markdown",
   "id": "721e0773",
   "metadata": {
    "deletable": false,
    "editable": false,
    "id": "7b0487d6"
   },
   "source": [
    "#### 3.6 Объясните, почему заполнить пропуски медианным значением — лучшее решение для количественных переменных."
   ]
  },
  {
   "cell_type": "markdown",
   "id": "aaff1a20",
   "metadata": {
    "deletable": false,
    "id": "7ecf2b8e"
   },
   "source": [
    "*Ответ:* Потому что среднестатическое значение не всегда отражает реальные средние значения. Например, если у одного человека зарплата - 1 000 000₽, а других двоих - 10 000₽, то у них средняя 340 000₽."
   ]
  },
  {
   "cell_type": "markdown",
   "id": "4191136e",
   "metadata": {},
   "source": [
    "<div class=\"alert alert-success\" style=\"border-radius: 15px; box-shadow: 4px 4px 4px; border: 1px solid \">\n",
    "<h2> Комментарий ревьюера  ✔️</h2>\n",
    "\n",
    "Совершенно верно.   \n",
    "</div>\n"
   ]
  },
  {
   "cell_type": "markdown",
   "id": "e10c21c5",
   "metadata": {
    "deletable": false,
    "editable": false,
    "id": "6db5255a"
   },
   "source": [
    "### Шаг 4: общий вывод."
   ]
  },
  {
   "cell_type": "markdown",
   "id": "127c7450",
   "metadata": {
    "deletable": false,
    "id": "bad65432"
   },
   "source": [
    "**Зависимость между количеством детей и возвратом кредита в срок.** \n",
    "\n",
    "|Количество детей |Процент должников (%)|\n",
    "|:|----:    |\n",
    "|0   | 7.543822|\n",
    "|1   |9.234609 |\n",
    "|2   | 9.454191|\n",
    "|3   |8.181818 |\n",
    "|4   |9.756098 |\n",
    "|5   |0.000000 | \n",
    "\n",
    ">Самые надежные клиенты - это люди не имеющие детей: ~7,5% имели задолженности по кредиту. \n",
    "Клиенты с тремя детьми - занимают второе место: ~8,2% невозврата в срок.\n",
    "Самые ненадежные клиенты - это люди с четыремя детьми: 9,7% имели задолженности.  \n",
    "\n",
    "**Зависимость между семейным положением и возвратом кредита в срок.** \n",
    "\n",
    "|Семейное положение |Процент должников (%)|\n",
    "|:|----:    |\n",
    "|Не женат / не замужем   | 9.763948|\n",
    "|В разводе               | 7.064760|\n",
    "|Вдовец / вдова          | 6.624606|\n",
    "|Гражданский брак        |9.313014|\n",
    "|Женат / замужем         | 7.560558| \n",
    "\n",
    ">Самые надежные клиенты - овдовевшие люди: ~6,7% имели задолженности по кредиту. \n",
    "Клиенты в разводе - занимают второе место: ~7,1% невозврата в срок.\n",
    "Самые ненадежные клиенты - это люди не вступавшие в брак: ~9,8% имели задолженности.\n",
    "\n",
    "**Зависимость между уровнем дохода и возвратом кредита в срок.** \n",
    "\n",
    "|Уровни дохода|Доходы (₽)|Процент должников (%)|\n",
    "|:|----:    |----:    |\n",
    "|A | 1 000 001 и выше   | 8.000000|\n",
    "|B            | 200 001 – 1 000 000 | 7.060231|\n",
    "|C        | 50 001 – 200 000 | 8.498210|\n",
    "|D     | 30 001 – 50 000 |6.017192|\n",
    "|E        | 0 – 30 000| 9.090909|\n",
    "\n",
    ">Самые надежные клиенты - люди с доходом от 30 000₽ до 50 000₽: ~6% имели задолженности по кредиту. \n",
    "Клиенты с доходам от 200 000₽ - 1 000 000₽ - занимают второе место: ~7% невозврата в срок.\n",
    "Самые ненадежные клиенты - это люди с доходам менее 30 000₽: ~9,1% имели задолженности.\n",
    "\n",
    "**Зависимость разные цели кредита влияют на возврат кредита в срок.** \n",
    "\n",
    "|Категории операций  |Процент должников (%)|\n",
    "|:|----:    |\n",
    "|Операции с автомобилем   |   9.347978|\n",
    "|Операции с недвижимостью |   7.255139|\n",
    "|Получение образования    |   9.252758|\n",
    "|Проведение свадьбы       |   7.911803|\n",
    "\n",
    ">Самые надежные клиенты - люди берущие кредит на операции с недвижимостью: ~7,3% имели задолженности по кредиту. \n",
    "Клиенты которые берут кредит для свадьбы - занимают второе место: ~7,9% невозврата в срок.\n",
    "Самые ненадежные клиенты - это люди берущие кредит на автомобиль: ~9,3% имели задолженности."
   ]
  },
  {
   "cell_type": "markdown",
   "id": "d4b21f0b",
   "metadata": {},
   "source": [
    "<div class=\"alert alert-danger\" style=\"border-radius: 15px; box-shadow: 4px 4px 4px; border: 1px solid \">\n",
    "<b> Комментарий ревьюера  ❌</b>\n",
    "    \n",
    "Не забудь обновить вывод после корректировок. Также предлагаю немного расширить вывод, чтобы он не был меньше промежуточных выводов. В идеале надо приводить проценты невозврата в срок у самых надежных и самых безответственных клиентов для каждой группы. Например: самые надежные клиенты это люди, берущие кредит на операции с недвижимостью (такой-то процент невозврата в срок), а самые безответственные те, кто обращается в банк с целью получить деньги на покупку автомобиля (такой-то процент). И так для каждой группы. Это хороший тон, — подкреплять вывод полученными ранее результатами. Кроме того, так ты не оставляешь заказчику шансов неверно интерпретировать вывод.</div>\n",
    "<div class=\"alert alert-success\" style=\"border-radius: 15px; box-shadow: 4px 4px 4px; border: 1px solid \">\n",
    "<h2> Комментарий ревьюера 2 ✔️</h2>\n",
    "    \n",
    "Супер :)\n",
    "</div>"
   ]
  }
 ],
 "metadata": {
  "ExecuteTimeLog": [
   {
    "duration": 462,
    "start_time": "2022-10-13T14:52:01.146Z"
   },
   {
    "duration": 23,
    "start_time": "2022-10-13T14:52:03.933Z"
   },
   {
    "duration": 16,
    "start_time": "2022-10-13T14:52:07.837Z"
   },
   {
    "duration": 431,
    "start_time": "2022-10-13T15:01:56.968Z"
   },
   {
    "duration": 24,
    "start_time": "2022-10-13T15:01:57.401Z"
   },
   {
    "duration": 16,
    "start_time": "2022-10-13T15:01:57.427Z"
   },
   {
    "duration": 19,
    "start_time": "2022-10-13T15:01:57.446Z"
   },
   {
    "duration": 50,
    "start_time": "2022-10-13T15:01:57.467Z"
   },
   {
    "duration": 4,
    "start_time": "2022-10-13T15:01:57.520Z"
   },
   {
    "duration": 30,
    "start_time": "2022-10-13T15:01:57.526Z"
   },
   {
    "duration": 8,
    "start_time": "2022-10-13T15:01:57.558Z"
   },
   {
    "duration": 35,
    "start_time": "2022-10-13T15:01:57.568Z"
   },
   {
    "duration": 8,
    "start_time": "2022-10-13T15:01:57.606Z"
   },
   {
    "duration": 44,
    "start_time": "2022-10-13T15:01:57.616Z"
   },
   {
    "duration": 10,
    "start_time": "2022-10-13T15:01:57.662Z"
   },
   {
    "duration": 7,
    "start_time": "2022-10-13T15:01:57.674Z"
   },
   {
    "duration": 21,
    "start_time": "2022-10-13T15:01:57.683Z"
   },
   {
    "duration": 27,
    "start_time": "2022-10-13T15:01:57.705Z"
   },
   {
    "duration": 19,
    "start_time": "2022-10-13T15:01:57.734Z"
   },
   {
    "duration": 4,
    "start_time": "2022-10-13T15:01:57.755Z"
   },
   {
    "duration": 25,
    "start_time": "2022-10-13T15:01:57.760Z"
   },
   {
    "duration": 20,
    "start_time": "2022-10-13T15:01:57.786Z"
   },
   {
    "duration": 12,
    "start_time": "2022-10-13T15:01:57.808Z"
   },
   {
    "duration": 15,
    "start_time": "2022-10-13T15:01:57.822Z"
   },
   {
    "duration": 13,
    "start_time": "2022-10-13T15:01:57.839Z"
   },
   {
    "duration": 17,
    "start_time": "2022-10-13T15:01:57.854Z"
   },
   {
    "duration": 21,
    "start_time": "2022-10-13T15:01:57.873Z"
   },
   {
    "duration": 14,
    "start_time": "2022-10-13T15:01:57.896Z"
   },
   {
    "duration": 20,
    "start_time": "2022-10-13T15:22:59.007Z"
   },
   {
    "duration": 5,
    "start_time": "2022-10-13T15:31:49.916Z"
   },
   {
    "duration": 83,
    "start_time": "2022-10-13T15:36:00.976Z"
   },
   {
    "duration": 15,
    "start_time": "2022-10-13T15:36:29.999Z"
   },
   {
    "duration": 16,
    "start_time": "2022-10-13T15:36:38.491Z"
   },
   {
    "duration": 17,
    "start_time": "2022-10-13T15:40:36.073Z"
   },
   {
    "duration": 11,
    "start_time": "2022-10-13T15:41:10.925Z"
   },
   {
    "duration": 14,
    "start_time": "2022-10-13T15:41:24.810Z"
   },
   {
    "duration": 14,
    "start_time": "2022-10-13T15:42:10.749Z"
   },
   {
    "duration": 27,
    "start_time": "2022-10-13T15:42:17.887Z"
   },
   {
    "duration": 29,
    "start_time": "2022-10-13T15:42:28.707Z"
   },
   {
    "duration": 14,
    "start_time": "2022-10-13T15:43:16.170Z"
   },
   {
    "duration": 16,
    "start_time": "2022-10-13T15:52:26.266Z"
   },
   {
    "duration": 17,
    "start_time": "2022-10-13T15:52:30.951Z"
   },
   {
    "duration": 17,
    "start_time": "2022-10-13T15:56:23.055Z"
   },
   {
    "duration": 18,
    "start_time": "2022-10-13T15:57:32.338Z"
   },
   {
    "duration": 13,
    "start_time": "2022-10-13T15:59:54.877Z"
   },
   {
    "duration": 18,
    "start_time": "2022-10-13T15:59:59.816Z"
   },
   {
    "duration": 18,
    "start_time": "2022-10-13T16:09:36.536Z"
   },
   {
    "duration": 15,
    "start_time": "2022-10-13T16:09:53.834Z"
   },
   {
    "duration": 21,
    "start_time": "2022-10-13T16:09:56.960Z"
   },
   {
    "duration": 70,
    "start_time": "2022-10-13T16:11:12.823Z"
   },
   {
    "duration": 18,
    "start_time": "2022-10-13T16:11:22.628Z"
   },
   {
    "duration": 18,
    "start_time": "2022-10-13T16:30:42.184Z"
   },
   {
    "duration": 19,
    "start_time": "2022-10-13T16:30:47.891Z"
   },
   {
    "duration": 2,
    "start_time": "2022-10-13T16:45:52.905Z"
   },
   {
    "duration": 660,
    "start_time": "2022-10-14T12:19:19.235Z"
   },
   {
    "duration": 22,
    "start_time": "2022-10-14T12:19:19.897Z"
   },
   {
    "duration": 13,
    "start_time": "2022-10-14T12:19:19.921Z"
   },
   {
    "duration": 9,
    "start_time": "2022-10-14T12:19:19.936Z"
   },
   {
    "duration": 41,
    "start_time": "2022-10-14T12:19:19.947Z"
   },
   {
    "duration": 3,
    "start_time": "2022-10-14T12:19:19.990Z"
   },
   {
    "duration": 34,
    "start_time": "2022-10-14T12:19:19.994Z"
   },
   {
    "duration": 4,
    "start_time": "2022-10-14T12:19:20.030Z"
   },
   {
    "duration": 9,
    "start_time": "2022-10-14T12:19:20.035Z"
   },
   {
    "duration": 4,
    "start_time": "2022-10-14T12:19:20.047Z"
   },
   {
    "duration": 39,
    "start_time": "2022-10-14T12:19:20.053Z"
   },
   {
    "duration": 29,
    "start_time": "2022-10-14T12:19:20.093Z"
   },
   {
    "duration": 3,
    "start_time": "2022-10-14T12:19:20.123Z"
   },
   {
    "duration": 23,
    "start_time": "2022-10-14T12:19:20.128Z"
   },
   {
    "duration": 19,
    "start_time": "2022-10-14T12:19:20.152Z"
   },
   {
    "duration": 17,
    "start_time": "2022-10-14T12:19:20.172Z"
   },
   {
    "duration": 4,
    "start_time": "2022-10-14T12:19:20.190Z"
   },
   {
    "duration": 27,
    "start_time": "2022-10-14T12:19:20.195Z"
   },
   {
    "duration": 10,
    "start_time": "2022-10-14T12:19:20.224Z"
   },
   {
    "duration": 11,
    "start_time": "2022-10-14T12:19:20.236Z"
   },
   {
    "duration": 21,
    "start_time": "2022-10-14T12:19:20.248Z"
   },
   {
    "duration": 6,
    "start_time": "2022-10-14T12:19:20.271Z"
   },
   {
    "duration": 22,
    "start_time": "2022-10-14T12:19:20.278Z"
   },
   {
    "duration": 24,
    "start_time": "2022-10-14T12:19:20.301Z"
   },
   {
    "duration": 15,
    "start_time": "2022-10-14T12:19:20.327Z"
   },
   {
    "duration": 17,
    "start_time": "2022-10-14T12:19:20.344Z"
   },
   {
    "duration": 62,
    "start_time": "2022-10-14T12:56:36.592Z"
   },
   {
    "duration": 0,
    "start_time": "2022-10-14T12:56:36.657Z"
   },
   {
    "duration": 0,
    "start_time": "2022-10-14T12:56:36.658Z"
   },
   {
    "duration": 6,
    "start_time": "2022-10-14T12:59:09.969Z"
   },
   {
    "duration": 52,
    "start_time": "2022-10-14T12:59:21.375Z"
   },
   {
    "duration": 714,
    "start_time": "2022-10-14T12:59:37.480Z"
   },
   {
    "duration": 22,
    "start_time": "2022-10-14T12:59:38.196Z"
   },
   {
    "duration": 21,
    "start_time": "2022-10-14T12:59:38.219Z"
   },
   {
    "duration": 10,
    "start_time": "2022-10-14T12:59:38.243Z"
   },
   {
    "duration": 50,
    "start_time": "2022-10-14T12:59:38.255Z"
   },
   {
    "duration": 4,
    "start_time": "2022-10-14T12:59:38.307Z"
   },
   {
    "duration": 12,
    "start_time": "2022-10-14T12:59:38.313Z"
   },
   {
    "duration": 10,
    "start_time": "2022-10-14T12:59:38.326Z"
   },
   {
    "duration": 25,
    "start_time": "2022-10-14T12:59:38.337Z"
   },
   {
    "duration": 7,
    "start_time": "2022-10-14T12:59:38.366Z"
   },
   {
    "duration": 55,
    "start_time": "2022-10-14T12:59:38.375Z"
   },
   {
    "duration": 10,
    "start_time": "2022-10-14T12:59:38.431Z"
   },
   {
    "duration": 12,
    "start_time": "2022-10-14T12:59:38.442Z"
   },
   {
    "duration": 23,
    "start_time": "2022-10-14T12:59:38.455Z"
   },
   {
    "duration": 31,
    "start_time": "2022-10-14T12:59:38.480Z"
   },
   {
    "duration": 23,
    "start_time": "2022-10-14T12:59:38.513Z"
   },
   {
    "duration": 5,
    "start_time": "2022-10-14T12:59:38.538Z"
   },
   {
    "duration": 24,
    "start_time": "2022-10-14T12:59:38.545Z"
   },
   {
    "duration": 11,
    "start_time": "2022-10-14T12:59:38.571Z"
   },
   {
    "duration": 15,
    "start_time": "2022-10-14T12:59:38.584Z"
   },
   {
    "duration": 16,
    "start_time": "2022-10-14T12:59:38.601Z"
   },
   {
    "duration": 25,
    "start_time": "2022-10-14T12:59:38.618Z"
   },
   {
    "duration": 88,
    "start_time": "2022-10-14T12:59:38.644Z"
   },
   {
    "duration": 0,
    "start_time": "2022-10-14T12:59:38.734Z"
   },
   {
    "duration": 0,
    "start_time": "2022-10-14T12:59:38.735Z"
   },
   {
    "duration": 0,
    "start_time": "2022-10-14T12:59:38.736Z"
   },
   {
    "duration": 15,
    "start_time": "2022-10-14T12:59:52.291Z"
   },
   {
    "duration": 17,
    "start_time": "2022-10-14T13:00:48.184Z"
   },
   {
    "duration": 17,
    "start_time": "2022-10-14T13:17:44.454Z"
   },
   {
    "duration": 16,
    "start_time": "2022-10-14T13:17:47.350Z"
   },
   {
    "duration": 21,
    "start_time": "2022-10-14T13:44:11.181Z"
   },
   {
    "duration": 18,
    "start_time": "2022-10-14T13:44:30.848Z"
   },
   {
    "duration": 17,
    "start_time": "2022-10-14T13:44:49.752Z"
   },
   {
    "duration": 15,
    "start_time": "2022-10-14T13:44:56.267Z"
   },
   {
    "duration": 8,
    "start_time": "2022-10-14T13:45:02.794Z"
   },
   {
    "duration": 14,
    "start_time": "2022-10-14T13:45:05.517Z"
   },
   {
    "duration": 17,
    "start_time": "2022-10-14T13:45:13.065Z"
   },
   {
    "duration": 15,
    "start_time": "2022-10-14T13:45:22.289Z"
   },
   {
    "duration": 16,
    "start_time": "2022-10-14T13:45:31.274Z"
   },
   {
    "duration": 17,
    "start_time": "2022-10-14T13:45:55.187Z"
   },
   {
    "duration": 74,
    "start_time": "2022-10-14T13:46:47.741Z"
   },
   {
    "duration": 83,
    "start_time": "2022-10-14T13:47:04.462Z"
   },
   {
    "duration": 17,
    "start_time": "2022-10-14T13:47:11.243Z"
   },
   {
    "duration": 4,
    "start_time": "2022-10-14T13:49:10.850Z"
   },
   {
    "duration": 5,
    "start_time": "2022-10-14T13:49:26.596Z"
   },
   {
    "duration": 89,
    "start_time": "2022-10-14T13:55:46.912Z"
   },
   {
    "duration": 66,
    "start_time": "2022-10-14T13:55:52.214Z"
   },
   {
    "duration": 33,
    "start_time": "2022-10-14T13:56:02.115Z"
   },
   {
    "duration": 17,
    "start_time": "2022-10-14T13:56:13.337Z"
   },
   {
    "duration": 17,
    "start_time": "2022-10-14T13:56:30.869Z"
   },
   {
    "duration": 17,
    "start_time": "2022-10-14T13:56:36.064Z"
   },
   {
    "duration": 93,
    "start_time": "2022-10-14T13:56:44.251Z"
   },
   {
    "duration": 28,
    "start_time": "2022-10-14T13:57:10.869Z"
   },
   {
    "duration": 15,
    "start_time": "2022-10-14T13:57:39.568Z"
   },
   {
    "duration": 29,
    "start_time": "2022-10-14T13:57:42.984Z"
   },
   {
    "duration": 27,
    "start_time": "2022-10-14T13:57:51.889Z"
   },
   {
    "duration": 35,
    "start_time": "2022-10-14T13:58:06.671Z"
   },
   {
    "duration": 9,
    "start_time": "2022-10-14T13:58:12.510Z"
   },
   {
    "duration": 4,
    "start_time": "2022-10-14T13:58:18.569Z"
   },
   {
    "duration": 8,
    "start_time": "2022-10-14T13:58:29.880Z"
   },
   {
    "duration": 6,
    "start_time": "2022-10-14T13:58:35.306Z"
   },
   {
    "duration": 28,
    "start_time": "2022-10-14T13:58:43.905Z"
   },
   {
    "duration": 27,
    "start_time": "2022-10-14T13:58:54.760Z"
   },
   {
    "duration": 68,
    "start_time": "2022-10-14T13:59:18.866Z"
   },
   {
    "duration": 17,
    "start_time": "2022-10-14T13:59:22.777Z"
   },
   {
    "duration": 27,
    "start_time": "2022-10-14T13:59:35.117Z"
   },
   {
    "duration": 17,
    "start_time": "2022-10-14T14:00:25.809Z"
   },
   {
    "duration": 17,
    "start_time": "2022-10-14T14:00:34.686Z"
   },
   {
    "duration": 4,
    "start_time": "2022-10-14T14:00:35.387Z"
   },
   {
    "duration": 16,
    "start_time": "2022-10-14T14:00:54.552Z"
   },
   {
    "duration": 23,
    "start_time": "2022-10-14T14:01:13.295Z"
   },
   {
    "duration": 23,
    "start_time": "2022-10-14T14:01:39.012Z"
   },
   {
    "duration": 16,
    "start_time": "2022-10-14T14:03:12.923Z"
   },
   {
    "duration": 22,
    "start_time": "2022-10-14T14:03:17.702Z"
   },
   {
    "duration": 23,
    "start_time": "2022-10-14T14:03:54.079Z"
   },
   {
    "duration": 20,
    "start_time": "2022-10-14T14:05:52.857Z"
   },
   {
    "duration": 22,
    "start_time": "2022-10-14T14:05:55.768Z"
   },
   {
    "duration": 18,
    "start_time": "2022-10-14T14:31:25.698Z"
   },
   {
    "duration": 24,
    "start_time": "2022-10-14T14:31:43.334Z"
   },
   {
    "duration": 21,
    "start_time": "2022-10-14T14:31:49.661Z"
   },
   {
    "duration": 21,
    "start_time": "2022-10-14T14:33:32.855Z"
   },
   {
    "duration": 19,
    "start_time": "2022-10-14T14:33:50.052Z"
   },
   {
    "duration": 19,
    "start_time": "2022-10-14T14:38:44.043Z"
   },
   {
    "duration": 20,
    "start_time": "2022-10-14T14:39:00.030Z"
   },
   {
    "duration": 20,
    "start_time": "2022-10-14T14:40:40.991Z"
   },
   {
    "duration": 25,
    "start_time": "2022-10-14T14:48:36.658Z"
   },
   {
    "duration": 19,
    "start_time": "2022-10-14T14:56:15.428Z"
   },
   {
    "duration": 20,
    "start_time": "2022-10-14T14:56:21.300Z"
   },
   {
    "duration": 21,
    "start_time": "2022-10-14T14:57:55.734Z"
   },
   {
    "duration": 20,
    "start_time": "2022-10-14T14:57:58.135Z"
   },
   {
    "duration": 1438,
    "start_time": "2022-10-14T15:13:05.621Z"
   },
   {
    "duration": 24,
    "start_time": "2022-10-14T15:13:23.382Z"
   },
   {
    "duration": 24,
    "start_time": "2022-10-14T15:13:37.522Z"
   },
   {
    "duration": 1142,
    "start_time": "2022-10-14T15:31:37.623Z"
   },
   {
    "duration": 23,
    "start_time": "2022-10-14T15:31:54.355Z"
   },
   {
    "duration": 24,
    "start_time": "2022-10-14T15:46:44.323Z"
   },
   {
    "duration": 3,
    "start_time": "2022-10-14T15:53:12.967Z"
   },
   {
    "duration": 502,
    "start_time": "2022-10-15T13:33:23.632Z"
   },
   {
    "duration": 22,
    "start_time": "2022-10-15T13:33:24.135Z"
   },
   {
    "duration": 29,
    "start_time": "2022-10-15T13:33:24.159Z"
   },
   {
    "duration": 35,
    "start_time": "2022-10-15T13:33:24.190Z"
   },
   {
    "duration": 49,
    "start_time": "2022-10-15T13:33:24.227Z"
   },
   {
    "duration": 5,
    "start_time": "2022-10-15T13:33:24.278Z"
   },
   {
    "duration": 44,
    "start_time": "2022-10-15T13:33:24.285Z"
   },
   {
    "duration": 26,
    "start_time": "2022-10-15T13:33:24.331Z"
   },
   {
    "duration": 21,
    "start_time": "2022-10-15T13:33:24.359Z"
   },
   {
    "duration": 36,
    "start_time": "2022-10-15T13:33:24.382Z"
   },
   {
    "duration": 49,
    "start_time": "2022-10-15T13:33:24.420Z"
   },
   {
    "duration": 9,
    "start_time": "2022-10-15T13:33:24.471Z"
   },
   {
    "duration": 36,
    "start_time": "2022-10-15T13:33:24.481Z"
   },
   {
    "duration": 19,
    "start_time": "2022-10-15T13:33:24.518Z"
   },
   {
    "duration": 41,
    "start_time": "2022-10-15T13:33:24.538Z"
   },
   {
    "duration": 18,
    "start_time": "2022-10-15T13:33:24.581Z"
   },
   {
    "duration": 16,
    "start_time": "2022-10-15T13:33:24.601Z"
   },
   {
    "duration": 27,
    "start_time": "2022-10-15T13:33:24.618Z"
   },
   {
    "duration": 29,
    "start_time": "2022-10-15T13:33:24.647Z"
   },
   {
    "duration": 24,
    "start_time": "2022-10-15T13:33:24.678Z"
   },
   {
    "duration": 30,
    "start_time": "2022-10-15T13:33:24.704Z"
   },
   {
    "duration": 16,
    "start_time": "2022-10-15T13:33:24.736Z"
   },
   {
    "duration": 34,
    "start_time": "2022-10-15T13:33:24.753Z"
   },
   {
    "duration": 28,
    "start_time": "2022-10-15T13:33:24.790Z"
   },
   {
    "duration": 26,
    "start_time": "2022-10-15T13:33:32.047Z"
   },
   {
    "duration": 20,
    "start_time": "2022-10-15T13:33:55.313Z"
   },
   {
    "duration": 12,
    "start_time": "2022-10-15T13:36:31.652Z"
   },
   {
    "duration": 12,
    "start_time": "2022-10-15T13:36:34.902Z"
   },
   {
    "duration": 15,
    "start_time": "2022-10-15T13:36:38.919Z"
   }
  ],
  "colab": {
   "name": "dpp_template_part2.ipynb",
   "provenance": []
  },
  "kernelspec": {
   "display_name": "Python 3 (ipykernel)",
   "language": "python",
   "name": "python3"
  },
  "language_info": {
   "codemirror_mode": {
    "name": "ipython",
    "version": 3
   },
   "file_extension": ".py",
   "mimetype": "text/x-python",
   "name": "python",
   "nbconvert_exporter": "python",
   "pygments_lexer": "ipython3",
   "version": "3.10.9"
  },
  "toc": {
   "base_numbering": 1,
   "nav_menu": {},
   "number_sections": true,
   "sideBar": true,
   "skip_h1_title": true,
   "title_cell": "Table of Contents",
   "title_sidebar": "Contents",
   "toc_cell": false,
   "toc_position": {},
   "toc_section_display": true,
   "toc_window_display": false
  }
 },
 "nbformat": 4,
 "nbformat_minor": 5
}
