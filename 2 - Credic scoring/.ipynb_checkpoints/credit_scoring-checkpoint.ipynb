{
 "cells": [
  {
   "cell_type": "markdown",
   "id": "3e0bd4c0",
   "metadata": {
    "deletable": false,
    "editable": false,
    "id": "3e0bd4c0"
   },
   "source": [
    "# Исследование надежности заемщиков\n"
   ]
  },
  {
   "cell_type": "markdown",
   "id": "de01cf17",
   "metadata": {
    "deletable": false,
    "editable": false,
    "id": "de01cf17"
   },
   "source": [
    "## Откройте таблицу и изучите общую информацию о данных"
   ]
  },
  {
   "cell_type": "code",
   "execution_count": 1,
   "id": "8d66f0dc",
   "metadata": {
    "colab": {
     "base_uri": "https://localhost:8080/",
     "height": 443
    },
    "deletable": false,
    "id": "8d66f0dc",
    "outputId": "ac88d125-70e7-4e77-b8c2-7fcae20d5e96"
   },
   "outputs": [],
   "source": [
    "import pandas as pd\n",
    "import numpy as np\n",
    "\n",
    "try:\n",
    "    data = pd.read_csv('project_2.csv')\n",
    "except:\n",
    "    data = pd.read_csv('https://yandex.ru/datasets/data.csv')"
   ]
  },
  {
   "cell_type": "code",
   "execution_count": 2,
   "id": "4410ed41",
   "metadata": {
    "deletable": false,
    "id": "4410ed41",
    "outputId": "1a8f3ef2-d323-4ec2-ddf7-89670b5944c4"
   },
   "outputs": [
    {
     "data": {
      "text/html": [
       "<div>\n",
       "<style scoped>\n",
       "    .dataframe tbody tr th:only-of-type {\n",
       "        vertical-align: middle;\n",
       "    }\n",
       "\n",
       "    .dataframe tbody tr th {\n",
       "        vertical-align: top;\n",
       "    }\n",
       "\n",
       "    .dataframe thead th {\n",
       "        text-align: right;\n",
       "    }\n",
       "</style>\n",
       "<table border=\"1\" class=\"dataframe\">\n",
       "  <thead>\n",
       "    <tr style=\"text-align: right;\">\n",
       "      <th></th>\n",
       "      <th>Unnamed: 0</th>\n",
       "      <th>children</th>\n",
       "      <th>days_employed</th>\n",
       "      <th>dob_years</th>\n",
       "      <th>education</th>\n",
       "      <th>education_id</th>\n",
       "      <th>family_status</th>\n",
       "      <th>family_status_id</th>\n",
       "      <th>gender</th>\n",
       "      <th>income_type</th>\n",
       "      <th>debt</th>\n",
       "      <th>total_income</th>\n",
       "      <th>purpose</th>\n",
       "    </tr>\n",
       "  </thead>\n",
       "  <tbody>\n",
       "    <tr>\n",
       "      <th>0</th>\n",
       "      <td>0</td>\n",
       "      <td>1</td>\n",
       "      <td>-8437.673028</td>\n",
       "      <td>42</td>\n",
       "      <td>высшее</td>\n",
       "      <td>0</td>\n",
       "      <td>женат / замужем</td>\n",
       "      <td>0</td>\n",
       "      <td>F</td>\n",
       "      <td>сотрудник</td>\n",
       "      <td>0</td>\n",
       "      <td>253875.639453</td>\n",
       "      <td>покупка жилья</td>\n",
       "    </tr>\n",
       "    <tr>\n",
       "      <th>1</th>\n",
       "      <td>1</td>\n",
       "      <td>1</td>\n",
       "      <td>-4024.803754</td>\n",
       "      <td>36</td>\n",
       "      <td>среднее</td>\n",
       "      <td>1</td>\n",
       "      <td>женат / замужем</td>\n",
       "      <td>0</td>\n",
       "      <td>F</td>\n",
       "      <td>сотрудник</td>\n",
       "      <td>0</td>\n",
       "      <td>112080.014102</td>\n",
       "      <td>приобретение автомобиля</td>\n",
       "    </tr>\n",
       "    <tr>\n",
       "      <th>2</th>\n",
       "      <td>2</td>\n",
       "      <td>0</td>\n",
       "      <td>-5623.422610</td>\n",
       "      <td>33</td>\n",
       "      <td>Среднее</td>\n",
       "      <td>1</td>\n",
       "      <td>женат / замужем</td>\n",
       "      <td>0</td>\n",
       "      <td>M</td>\n",
       "      <td>сотрудник</td>\n",
       "      <td>0</td>\n",
       "      <td>145885.952297</td>\n",
       "      <td>покупка жилья</td>\n",
       "    </tr>\n",
       "    <tr>\n",
       "      <th>3</th>\n",
       "      <td>3</td>\n",
       "      <td>3</td>\n",
       "      <td>-4124.747207</td>\n",
       "      <td>32</td>\n",
       "      <td>среднее</td>\n",
       "      <td>1</td>\n",
       "      <td>женат / замужем</td>\n",
       "      <td>0</td>\n",
       "      <td>M</td>\n",
       "      <td>сотрудник</td>\n",
       "      <td>0</td>\n",
       "      <td>267628.550329</td>\n",
       "      <td>дополнительное образование</td>\n",
       "    </tr>\n",
       "    <tr>\n",
       "      <th>4</th>\n",
       "      <td>4</td>\n",
       "      <td>0</td>\n",
       "      <td>340266.072047</td>\n",
       "      <td>53</td>\n",
       "      <td>среднее</td>\n",
       "      <td>1</td>\n",
       "      <td>гражданский брак</td>\n",
       "      <td>1</td>\n",
       "      <td>F</td>\n",
       "      <td>пенсионер</td>\n",
       "      <td>0</td>\n",
       "      <td>158616.077870</td>\n",
       "      <td>сыграть свадьбу</td>\n",
       "    </tr>\n",
       "    <tr>\n",
       "      <th>5</th>\n",
       "      <td>5</td>\n",
       "      <td>0</td>\n",
       "      <td>-926.185831</td>\n",
       "      <td>27</td>\n",
       "      <td>высшее</td>\n",
       "      <td>0</td>\n",
       "      <td>гражданский брак</td>\n",
       "      <td>1</td>\n",
       "      <td>M</td>\n",
       "      <td>компаньон</td>\n",
       "      <td>0</td>\n",
       "      <td>255763.565419</td>\n",
       "      <td>покупка жилья</td>\n",
       "    </tr>\n",
       "    <tr>\n",
       "      <th>6</th>\n",
       "      <td>6</td>\n",
       "      <td>0</td>\n",
       "      <td>-2879.202052</td>\n",
       "      <td>43</td>\n",
       "      <td>высшее</td>\n",
       "      <td>0</td>\n",
       "      <td>женат / замужем</td>\n",
       "      <td>0</td>\n",
       "      <td>F</td>\n",
       "      <td>компаньон</td>\n",
       "      <td>0</td>\n",
       "      <td>240525.971920</td>\n",
       "      <td>операции с жильем</td>\n",
       "    </tr>\n",
       "    <tr>\n",
       "      <th>7</th>\n",
       "      <td>7</td>\n",
       "      <td>0</td>\n",
       "      <td>-152.779569</td>\n",
       "      <td>50</td>\n",
       "      <td>СРЕДНЕЕ</td>\n",
       "      <td>1</td>\n",
       "      <td>женат / замужем</td>\n",
       "      <td>0</td>\n",
       "      <td>M</td>\n",
       "      <td>сотрудник</td>\n",
       "      <td>0</td>\n",
       "      <td>135823.934197</td>\n",
       "      <td>образование</td>\n",
       "    </tr>\n",
       "    <tr>\n",
       "      <th>8</th>\n",
       "      <td>8</td>\n",
       "      <td>2</td>\n",
       "      <td>-6929.865299</td>\n",
       "      <td>35</td>\n",
       "      <td>ВЫСШЕЕ</td>\n",
       "      <td>0</td>\n",
       "      <td>гражданский брак</td>\n",
       "      <td>1</td>\n",
       "      <td>F</td>\n",
       "      <td>сотрудник</td>\n",
       "      <td>0</td>\n",
       "      <td>95856.832424</td>\n",
       "      <td>на проведение свадьбы</td>\n",
       "    </tr>\n",
       "    <tr>\n",
       "      <th>9</th>\n",
       "      <td>9</td>\n",
       "      <td>0</td>\n",
       "      <td>-2188.756445</td>\n",
       "      <td>41</td>\n",
       "      <td>среднее</td>\n",
       "      <td>1</td>\n",
       "      <td>женат / замужем</td>\n",
       "      <td>0</td>\n",
       "      <td>M</td>\n",
       "      <td>сотрудник</td>\n",
       "      <td>0</td>\n",
       "      <td>144425.938277</td>\n",
       "      <td>покупка жилья для семьи</td>\n",
       "    </tr>\n",
       "  </tbody>\n",
       "</table>\n",
       "</div>"
      ],
      "text/plain": [
       "   Unnamed: 0  children  days_employed  dob_years education  education_id  \\\n",
       "0           0         1   -8437.673028         42    высшее             0   \n",
       "1           1         1   -4024.803754         36   среднее             1   \n",
       "2           2         0   -5623.422610         33   Среднее             1   \n",
       "3           3         3   -4124.747207         32   среднее             1   \n",
       "4           4         0  340266.072047         53   среднее             1   \n",
       "5           5         0    -926.185831         27    высшее             0   \n",
       "6           6         0   -2879.202052         43    высшее             0   \n",
       "7           7         0    -152.779569         50   СРЕДНЕЕ             1   \n",
       "8           8         2   -6929.865299         35    ВЫСШЕЕ             0   \n",
       "9           9         0   -2188.756445         41   среднее             1   \n",
       "\n",
       "      family_status  family_status_id gender income_type  debt   total_income  \\\n",
       "0   женат / замужем                 0      F   сотрудник     0  253875.639453   \n",
       "1   женат / замужем                 0      F   сотрудник     0  112080.014102   \n",
       "2   женат / замужем                 0      M   сотрудник     0  145885.952297   \n",
       "3   женат / замужем                 0      M   сотрудник     0  267628.550329   \n",
       "4  гражданский брак                 1      F   пенсионер     0  158616.077870   \n",
       "5  гражданский брак                 1      M   компаньон     0  255763.565419   \n",
       "6   женат / замужем                 0      F   компаньон     0  240525.971920   \n",
       "7   женат / замужем                 0      M   сотрудник     0  135823.934197   \n",
       "8  гражданский брак                 1      F   сотрудник     0   95856.832424   \n",
       "9   женат / замужем                 0      M   сотрудник     0  144425.938277   \n",
       "\n",
       "                      purpose  \n",
       "0               покупка жилья  \n",
       "1     приобретение автомобиля  \n",
       "2               покупка жилья  \n",
       "3  дополнительное образование  \n",
       "4             сыграть свадьбу  \n",
       "5               покупка жилья  \n",
       "6           операции с жильем  \n",
       "7                 образование  \n",
       "8       на проведение свадьбы  \n",
       "9     покупка жилья для семьи  "
      ]
     },
     "execution_count": 2,
     "metadata": {},
     "output_type": "execute_result"
    }
   ],
   "source": [
    "data.head(10)"
   ]
  },
  {
   "cell_type": "code",
   "execution_count": 3,
   "id": "fd795102",
   "metadata": {
    "deletable": false,
    "id": "fd795102",
    "outputId": "15376089-8dad-46c9-b520-c05248d43158"
   },
   "outputs": [
    {
     "name": "stdout",
     "output_type": "stream",
     "text": [
      "<class 'pandas.core.frame.DataFrame'>\n",
      "RangeIndex: 21525 entries, 0 to 21524\n",
      "Data columns (total 13 columns):\n",
      " #   Column            Non-Null Count  Dtype  \n",
      "---  ------            --------------  -----  \n",
      " 0   Unnamed: 0        21525 non-null  int64  \n",
      " 1   children          21525 non-null  int64  \n",
      " 2   days_employed     19351 non-null  float64\n",
      " 3   dob_years         21525 non-null  int64  \n",
      " 4   education         21525 non-null  object \n",
      " 5   education_id      21525 non-null  int64  \n",
      " 6   family_status     21525 non-null  object \n",
      " 7   family_status_id  21525 non-null  int64  \n",
      " 8   gender            21525 non-null  object \n",
      " 9   income_type       21525 non-null  object \n",
      " 10  debt              21525 non-null  int64  \n",
      " 11  total_income      19351 non-null  float64\n",
      " 12  purpose           21525 non-null  object \n",
      "dtypes: float64(2), int64(6), object(5)\n",
      "memory usage: 2.1+ MB\n"
     ]
    }
   ],
   "source": [
    "data.info()"
   ]
  },
  {
   "cell_type": "markdown",
   "id": "a4bb13bd",
   "metadata": {
    "deletable": false,
    "editable": false,
    "id": "a4bb13bd"
   },
   "source": [
    "## Предобработка данных"
   ]
  },
  {
   "cell_type": "markdown",
   "id": "ab8489bd",
   "metadata": {
    "deletable": false,
    "editable": false,
    "id": "ab8489bd"
   },
   "source": [
    "### Удаление пропусков"
   ]
  },
  {
   "cell_type": "code",
   "execution_count": 4,
   "id": "45c30c21",
   "metadata": {
    "deletable": false,
    "id": "45c30c21",
    "outputId": "81f4d817-781c-465c-ed15-91ce4446810d"
   },
   "outputs": [
    {
     "data": {
      "text/plain": [
       "Unnamed: 0             0\n",
       "children               0\n",
       "days_employed       2174\n",
       "dob_years              0\n",
       "education              0\n",
       "education_id           0\n",
       "family_status          0\n",
       "family_status_id       0\n",
       "gender                 0\n",
       "income_type            0\n",
       "debt                   0\n",
       "total_income        2174\n",
       "purpose                0\n",
       "dtype: int64"
      ]
     },
     "execution_count": 4,
     "metadata": {},
     "output_type": "execute_result"
    }
   ],
   "source": [
    "data.isna().sum()"
   ]
  },
  {
   "cell_type": "code",
   "execution_count": 5,
   "id": "6f19ef4f",
   "metadata": {
    "deletable": false,
    "id": "6f19ef4f"
   },
   "outputs": [],
   "source": [
    "for t in data['income_type'].unique():\n",
    "    data.loc[(data['income_type'] == t) & (data['total_income'].isna()), 'total_income'] = \\\n",
    "    data.loc[(data['income_type'] == t), 'total_income'].median()"
   ]
  },
  {
   "cell_type": "markdown",
   "id": "ae1027d4",
   "metadata": {
    "deletable": false,
    "editable": false,
    "id": "ae1027d4"
   },
   "source": [
    "### Обработка аномальных значений"
   ]
  },
  {
   "cell_type": "code",
   "execution_count": 6,
   "id": "23a555c1",
   "metadata": {
    "deletable": false,
    "id": "23a555c1"
   },
   "outputs": [],
   "source": [
    "data['days_employed'] = data['days_employed'].abs()"
   ]
  },
  {
   "cell_type": "code",
   "execution_count": 7,
   "id": "58d3a472",
   "metadata": {
    "deletable": false,
    "id": "58d3a472",
    "outputId": "801ef80e-522b-4668-f34e-565af7432bcf"
   },
   "outputs": [
    {
     "data": {
      "text/plain": [
       "income_type\n",
       "безработный        366413.652744\n",
       "в декрете            3296.759962\n",
       "госслужащий          2689.368353\n",
       "компаньон            1547.382223\n",
       "пенсионер          365213.306266\n",
       "предприниматель       520.848083\n",
       "сотрудник            1574.202821\n",
       "студент               578.751554\n",
       "Name: days_employed, dtype: float64"
      ]
     },
     "execution_count": 7,
     "metadata": {},
     "output_type": "execute_result"
    }
   ],
   "source": [
    "data.groupby('income_type')['days_employed'].agg('median')"
   ]
  },
  {
   "cell_type": "code",
   "execution_count": 8,
   "id": "c670edfb",
   "metadata": {
    "deletable": false,
    "id": "c670edfb",
    "outputId": "6975b15c-7f95-4697-d16d-a0c79b657b03"
   },
   "outputs": [
    {
     "data": {
      "text/plain": [
       "array([ 1,  0,  3,  2, -1,  4, 20,  5])"
      ]
     },
     "execution_count": 8,
     "metadata": {},
     "output_type": "execute_result"
    }
   ],
   "source": [
    "data['children'].unique()"
   ]
  },
  {
   "cell_type": "code",
   "execution_count": 9,
   "id": "26b46db4",
   "metadata": {
    "deletable": false,
    "id": "26b46db4"
   },
   "outputs": [],
   "source": [
    "data = data[(data['children'] != -1) & (data['children'] != 20)]"
   ]
  },
  {
   "cell_type": "code",
   "execution_count": 10,
   "id": "bc6561e6",
   "metadata": {
    "deletable": false,
    "id": "bc6561e6",
    "outputId": "b2097101-d49d-44d9-901b-32a65c9463d1"
   },
   "outputs": [
    {
     "data": {
      "text/plain": [
       "array([1, 0, 3, 2, 4, 5])"
      ]
     },
     "execution_count": 10,
     "metadata": {},
     "output_type": "execute_result"
    }
   ],
   "source": [
    "data['children'].unique()"
   ]
  },
  {
   "cell_type": "markdown",
   "id": "ccbde885",
   "metadata": {
    "deletable": false,
    "editable": false,
    "id": "ccbde885"
   },
   "source": [
    "### Удаление пропусков (продолжение)"
   ]
  },
  {
   "cell_type": "code",
   "execution_count": 11,
   "id": "7a17f3b8",
   "metadata": {
    "deletable": false,
    "id": "7a17f3b8"
   },
   "outputs": [],
   "source": [
    "for t in data['income_type'].unique():\n",
    "    data.loc[(data['income_type'] == t) & (data['days_employed'].isna()), 'days_employed'] = \\\n",
    "    data.loc[(data['income_type'] == t), 'days_employed'].median()"
   ]
  },
  {
   "cell_type": "code",
   "execution_count": 12,
   "id": "5c8a0840",
   "metadata": {
    "deletable": false,
    "id": "5c8a0840",
    "outputId": "8da1e4e1-358e-4e87-98c9-f261bce0a7b2"
   },
   "outputs": [
    {
     "data": {
      "text/plain": [
       "Unnamed: 0          0\n",
       "children            0\n",
       "days_employed       0\n",
       "dob_years           0\n",
       "education           0\n",
       "education_id        0\n",
       "family_status       0\n",
       "family_status_id    0\n",
       "gender              0\n",
       "income_type         0\n",
       "debt                0\n",
       "total_income        0\n",
       "purpose             0\n",
       "dtype: int64"
      ]
     },
     "execution_count": 12,
     "metadata": {},
     "output_type": "execute_result"
    }
   ],
   "source": [
    "data.isna().sum()"
   ]
  },
  {
   "cell_type": "markdown",
   "id": "e573f79e",
   "metadata": {
    "deletable": false,
    "editable": false,
    "id": "e573f79e"
   },
   "source": [
    "### Изменение типов данных"
   ]
  },
  {
   "cell_type": "code",
   "execution_count": 13,
   "id": "2d7b00a1",
   "metadata": {
    "deletable": false,
    "id": "2d7b00a1"
   },
   "outputs": [],
   "source": [
    "data['total_income'] = data['total_income'].astype(int)"
   ]
  },
  {
   "cell_type": "markdown",
   "id": "42391a37",
   "metadata": {
    "deletable": false,
    "editable": false,
    "id": "42391a37"
   },
   "source": [
    "### Обработка дубликатов"
   ]
  },
  {
   "cell_type": "code",
   "execution_count": 14,
   "id": "5d13da6d",
   "metadata": {
    "deletable": false,
    "id": "5d13da6d"
   },
   "outputs": [],
   "source": [
    "data['education'] = data['education'].str.lower()"
   ]
  },
  {
   "cell_type": "code",
   "execution_count": 15,
   "id": "9b9ea150",
   "metadata": {
    "deletable": false,
    "id": "9b9ea150",
    "outputId": "9684deba-1934-42d1-99e1-cda61740f822"
   },
   "outputs": [
    {
     "data": {
      "text/plain": [
       "0"
      ]
     },
     "execution_count": 15,
     "metadata": {},
     "output_type": "execute_result"
    }
   ],
   "source": [
    "data.duplicated().sum()"
   ]
  },
  {
   "cell_type": "code",
   "execution_count": 16,
   "id": "1b37c1fe",
   "metadata": {
    "deletable": false,
    "id": "1b37c1fe"
   },
   "outputs": [],
   "source": [
    "data = data.drop_duplicates()"
   ]
  },
  {
   "cell_type": "markdown",
   "id": "a79e1ec5",
   "metadata": {
    "deletable": false,
    "editable": false,
    "id": "a79e1ec5"
   },
   "source": [
    "### Категоризация данных"
   ]
  },
  {
   "cell_type": "markdown",
   "id": "a1f2c82d",
   "metadata": {
    "deletable": false,
    "editable": false,
    "id": "a1f2c82d"
   },
   "source": [
    "**Категории с доходами:**\n",
    "\n",
    "- 0–30000 — `'E'`;\n",
    "- 30001–50000 — `'D'`;\n",
    "- 50001–200000 — `'C'`;\n",
    "- 200001–1000000 — `'B'`;\n",
    "- 1000001 и выше — `'A'`.\n",
    "\n"
   ]
  },
  {
   "cell_type": "code",
   "execution_count": 17,
   "id": "0b6ba055",
   "metadata": {
    "deletable": false,
    "id": "0b6ba055"
   },
   "outputs": [],
   "source": [
    "def categorize_income(income):\n",
    "    try:\n",
    "        if 0 <= income <= 30000:\n",
    "            return 'E'\n",
    "        elif 30001 <= income <= 50000:\n",
    "            return 'D'\n",
    "        elif 50001 <= income <= 200000:\n",
    "            return 'C'\n",
    "        elif 200001 <= income <= 1000000:\n",
    "            return 'B'\n",
    "        elif income >= 1000001:\n",
    "            return 'A'\n",
    "    except:\n",
    "        pass"
   ]
  },
  {
   "cell_type": "code",
   "execution_count": 18,
   "id": "13b0be6f",
   "metadata": {
    "deletable": false,
    "id": "13b0be6f"
   },
   "outputs": [],
   "source": [
    "data['total_income_category'] = data['total_income'].apply(categorize_income)"
   ]
  },
  {
   "cell_type": "code",
   "execution_count": 19,
   "id": "2b704a4e",
   "metadata": {
    "deletable": false,
    "id": "2b704a4e",
    "outputId": "673c12d9-7d7e-4ae0-9812-c622c89dd244"
   },
   "outputs": [
    {
     "data": {
      "text/plain": [
       "array(['покупка жилья', 'приобретение автомобиля',\n",
       "       'дополнительное образование', 'сыграть свадьбу',\n",
       "       'операции с жильем', 'образование', 'на проведение свадьбы',\n",
       "       'покупка жилья для семьи', 'покупка недвижимости',\n",
       "       'покупка коммерческой недвижимости', 'покупка жилой недвижимости',\n",
       "       'строительство собственной недвижимости', 'недвижимость',\n",
       "       'строительство недвижимости', 'на покупку подержанного автомобиля',\n",
       "       'на покупку своего автомобиля',\n",
       "       'операции с коммерческой недвижимостью',\n",
       "       'строительство жилой недвижимости', 'жилье',\n",
       "       'операции со своей недвижимостью', 'автомобили',\n",
       "       'заняться образованием', 'сделка с подержанным автомобилем',\n",
       "       'получение образования', 'автомобиль', 'свадьба',\n",
       "       'получение дополнительного образования', 'покупка своего жилья',\n",
       "       'операции с недвижимостью', 'получение высшего образования',\n",
       "       'свой автомобиль', 'сделка с автомобилем',\n",
       "       'профильное образование', 'высшее образование',\n",
       "       'покупка жилья для сдачи', 'на покупку автомобиля', 'ремонт жилью',\n",
       "       'заняться высшим образованием'], dtype=object)"
      ]
     },
     "execution_count": 19,
     "metadata": {},
     "output_type": "execute_result"
    }
   ],
   "source": [
    "data['purpose'].unique()"
   ]
  },
  {
   "cell_type": "code",
   "execution_count": 20,
   "id": "c5635d77",
   "metadata": {
    "deletable": false,
    "id": "c5635d77"
   },
   "outputs": [],
   "source": [
    "def categorize_purpose(row):\n",
    "    try:\n",
    "        if 'автом' in row:\n",
    "            return 'операции с автомобилем'\n",
    "        elif 'жил' in row or 'недвиж' in row:\n",
    "            return 'операции с недвижимостью'\n",
    "        elif 'свад' in row:\n",
    "            return 'проведение свадьбы'\n",
    "        elif 'образов' in row:\n",
    "            return 'получение образования'\n",
    "    except:\n",
    "        return 'нет категории'"
   ]
  },
  {
   "cell_type": "code",
   "execution_count": 21,
   "id": "529096ea",
   "metadata": {
    "deletable": false,
    "id": "529096ea"
   },
   "outputs": [],
   "source": [
    "data['purpose_category'] = data['purpose'].apply(categorize_purpose)"
   ]
  },
  {
   "cell_type": "markdown",
   "id": "188939e7",
   "metadata": {
    "deletable": false,
    "editable": false,
    "id": "188939e7"
   },
   "source": [
    "### Шаг 3. Исследуйте данные и ответьте на вопросы"
   ]
  },
  {
   "cell_type": "markdown",
   "id": "18e8161a",
   "metadata": {
    "deletable": false,
    "editable": false,
    "id": "18e8161a"
   },
   "source": [
    "#### 3.1 Есть ли зависимость между количеством детей и возвратом кредита в срок?"
   ]
  },
  {
   "cell_type": "code",
   "execution_count": 22,
   "id": "9b7b8826",
   "metadata": {
    "id": "9b7b8826",
    "outputId": "f8e37158-4cef-4f3d-c10f-73636d5f5b6c"
   },
   "outputs": [
    {
     "data": {
      "text/html": [
       "<div>\n",
       "<style scoped>\n",
       "    .dataframe tbody tr th:only-of-type {\n",
       "        vertical-align: middle;\n",
       "    }\n",
       "\n",
       "    .dataframe tbody tr th {\n",
       "        vertical-align: top;\n",
       "    }\n",
       "\n",
       "    .dataframe thead th {\n",
       "        text-align: right;\n",
       "    }\n",
       "</style>\n",
       "<table border=\"1\" class=\"dataframe\">\n",
       "  <thead>\n",
       "    <tr style=\"text-align: right;\">\n",
       "      <th></th>\n",
       "      <th>count</th>\n",
       "      <th>sum</th>\n",
       "      <th>mean</th>\n",
       "    </tr>\n",
       "    <tr>\n",
       "      <th>children</th>\n",
       "      <th></th>\n",
       "      <th></th>\n",
       "      <th></th>\n",
       "    </tr>\n",
       "  </thead>\n",
       "  <tbody>\n",
       "    <tr>\n",
       "      <th>0</th>\n",
       "      <td>14149</td>\n",
       "      <td>1063</td>\n",
       "      <td>0.075129</td>\n",
       "    </tr>\n",
       "    <tr>\n",
       "      <th>1</th>\n",
       "      <td>4818</td>\n",
       "      <td>444</td>\n",
       "      <td>0.092154</td>\n",
       "    </tr>\n",
       "    <tr>\n",
       "      <th>2</th>\n",
       "      <td>2055</td>\n",
       "      <td>194</td>\n",
       "      <td>0.094404</td>\n",
       "    </tr>\n",
       "    <tr>\n",
       "      <th>3</th>\n",
       "      <td>330</td>\n",
       "      <td>27</td>\n",
       "      <td>0.081818</td>\n",
       "    </tr>\n",
       "    <tr>\n",
       "      <th>4</th>\n",
       "      <td>41</td>\n",
       "      <td>4</td>\n",
       "      <td>0.097561</td>\n",
       "    </tr>\n",
       "    <tr>\n",
       "      <th>5</th>\n",
       "      <td>9</td>\n",
       "      <td>0</td>\n",
       "      <td>0.000000</td>\n",
       "    </tr>\n",
       "  </tbody>\n",
       "</table>\n",
       "</div>"
      ],
      "text/plain": [
       "          count   sum      mean\n",
       "children                       \n",
       "0         14149  1063  0.075129\n",
       "1          4818   444  0.092154\n",
       "2          2055   194  0.094404\n",
       "3           330    27  0.081818\n",
       "4            41     4  0.097561\n",
       "5             9     0  0.000000"
      ]
     },
     "execution_count": 22,
     "metadata": {},
     "output_type": "execute_result"
    }
   ],
   "source": [
    "data.groupby('children')['debt'].agg(['count','sum','mean'])"
   ]
  },
  {
   "cell_type": "markdown",
   "id": "7367dc19",
   "metadata": {
    "deletable": false,
    "id": "7367dc19"
   },
   "source": [
    "**Вывод:**  Клиенты с детьми менее надежные заемщики, чем без детей. Люди с тремя детьми - статистически чаще отдают кредиты, чем с двумя, тремя и даже с 4 детьми. Люди без детей в меньшей степени имеют какие-либо кредитные задолженности. Людей с пятью детьми не хватает для правильной оценки. Люди с четырями детьми чаще других имеют задолженности."
   ]
  },
  {
   "cell_type": "markdown",
   "id": "97e6f88a",
   "metadata": {
    "deletable": false,
    "editable": false,
    "id": "97e6f88a"
   },
   "source": [
    "#### 3.2 Есть ли зависимость между семейным положением и возвратом кредита в срок?"
   ]
  },
  {
   "cell_type": "code",
   "execution_count": 23,
   "id": "c62168eb",
   "metadata": {
    "deletable": false,
    "id": "c62168eb",
    "outputId": "3357b59c-87e8-44d0-aaa5-6c8a869bd4dc"
   },
   "outputs": [
    {
     "data": {
      "text/html": [
       "<div>\n",
       "<style scoped>\n",
       "    .dataframe tbody tr th:only-of-type {\n",
       "        vertical-align: middle;\n",
       "    }\n",
       "\n",
       "    .dataframe tbody tr th {\n",
       "        vertical-align: top;\n",
       "    }\n",
       "\n",
       "    .dataframe thead th {\n",
       "        text-align: right;\n",
       "    }\n",
       "</style>\n",
       "<table border=\"1\" class=\"dataframe\">\n",
       "  <thead>\n",
       "    <tr style=\"text-align: right;\">\n",
       "      <th>family_status</th>\n",
       "      <th>Не женат / не замужем</th>\n",
       "      <th>в разводе</th>\n",
       "      <th>вдовец / вдова</th>\n",
       "      <th>гражданский брак</th>\n",
       "      <th>женат / замужем</th>\n",
       "    </tr>\n",
       "  </thead>\n",
       "  <tbody>\n",
       "    <tr>\n",
       "      <th>debt</th>\n",
       "      <td>0.097535</td>\n",
       "      <td>0.070648</td>\n",
       "      <td>0.066176</td>\n",
       "      <td>0.092548</td>\n",
       "      <td>0.075354</td>\n",
       "    </tr>\n",
       "  </tbody>\n",
       "</table>\n",
       "</div>"
      ],
      "text/plain": [
       "family_status  Не женат / не замужем  в разводе  вдовец / вдова  \\\n",
       "debt                        0.097535   0.070648        0.066176   \n",
       "\n",
       "family_status  гражданский брак  женат / замужем  \n",
       "debt                   0.092548         0.075354  "
      ]
     },
     "metadata": {},
     "output_type": "display_data"
    }
   ],
   "source": [
    "family_and_debt = data.pivot_table(columns='family_status', values='debt', aggfunc='mean')\n",
    "display(family_and_debt)"
   ]
  },
  {
   "cell_type": "markdown",
   "id": "a42d3975",
   "metadata": {
    "deletable": false,
    "id": "a42d3975"
   },
   "source": [
    "**Вывод:** Неженатые и незамужние, а также люди находящихся в гражданском браке, чаще имеют задолженность по сравнению с другими людьми, которые имеют другие семейные статусы: в разводе, вдовцы, женатые и замужние. Вдовцы и вдовы реже имеют какие-либо кредитные задолженности, а люди не состоявшие никогда в браке чаще других.  "
   ]
  },
  {
   "cell_type": "markdown",
   "id": "9d349b84",
   "metadata": {
    "deletable": false,
    "editable": false,
    "id": "9d349b84"
   },
   "source": [
    "#### 3.3 Есть ли зависимость между уровнем дохода и возвратом кредита в срок?"
   ]
  },
  {
   "cell_type": "markdown",
   "id": "3e9fd493",
   "metadata": {
    "id": "3e9fd493"
   },
   "source": [
    "- 0 – 30 000 — `'E'`;\n",
    "- 30 001 – 50 000 — `'D'`;\n",
    "- 50 001 – 200 000 — `'C'`;\n",
    "- 200 001 – 1 000 000 — `'B'`;\n",
    "- 1 000 001 и выше — `'A'`."
   ]
  },
  {
   "cell_type": "code",
   "execution_count": 24,
   "id": "88e26caa",
   "metadata": {
    "deletable": false,
    "id": "88e26caa",
    "outputId": "c8ef878b-59fe-46cc-be3d-90a7d059735b"
   },
   "outputs": [
    {
     "data": {
      "text/html": [
       "<div>\n",
       "<style scoped>\n",
       "    .dataframe tbody tr th:only-of-type {\n",
       "        vertical-align: middle;\n",
       "    }\n",
       "\n",
       "    .dataframe tbody tr th {\n",
       "        vertical-align: top;\n",
       "    }\n",
       "\n",
       "    .dataframe thead th {\n",
       "        text-align: right;\n",
       "    }\n",
       "</style>\n",
       "<table border=\"1\" class=\"dataframe\">\n",
       "  <thead>\n",
       "    <tr style=\"text-align: right;\">\n",
       "      <th>total_income_category</th>\n",
       "      <th>A</th>\n",
       "      <th>B</th>\n",
       "      <th>C</th>\n",
       "      <th>D</th>\n",
       "      <th>E</th>\n",
       "    </tr>\n",
       "  </thead>\n",
       "  <tbody>\n",
       "    <tr>\n",
       "      <th>debt</th>\n",
       "      <td>0.08</td>\n",
       "      <td>0.070602</td>\n",
       "      <td>0.084605</td>\n",
       "      <td>0.060172</td>\n",
       "      <td>0.090909</td>\n",
       "    </tr>\n",
       "  </tbody>\n",
       "</table>\n",
       "</div>"
      ],
      "text/plain": [
       "total_income_category     A         B         C         D         E\n",
       "debt                   0.08  0.070602  0.084605  0.060172  0.090909"
      ]
     },
     "metadata": {},
     "output_type": "display_data"
    }
   ],
   "source": [
    "income_and_debt = data.pivot_table(columns=['total_income_category'], values='debt', aggfunc='mean')\n",
    "display(income_and_debt)"
   ]
  },
  {
   "cell_type": "markdown",
   "id": "c4f5935c",
   "metadata": {
    "deletable": false,
    "id": "c4f5935c"
   },
   "source": [
    "**Вывод:** Люди с доходом менее 30 000₽, чаще других имеют задолженность. Люди с доходом от 30 000₽ до 50 000₽ в меньшей степени склонны не оплачивать во время кредиты. Прямой зависимости от суммы дохода к задолженности по кредитам - нет. Т.е. нет такого, что человек чем больше зарабатывает, тем он более вероятнее будет вовремя платить по кредиту. Люди с доходом более 1 000 000₽ чаще имеют задолженности, чем люди с доходом меньше, кроме людей с доходом от 50 000₽ до 200 000₽."
   ]
  },
  {
   "cell_type": "markdown",
   "id": "58c94297",
   "metadata": {
    "deletable": false,
    "editable": false,
    "id": "58c94297"
   },
   "source": [
    "#### 3.4 Как разные цели кредита влияют на его возврат в срок?"
   ]
  },
  {
   "cell_type": "code",
   "execution_count": 25,
   "id": "31298edc",
   "metadata": {
    "deletable": false,
    "id": "31298edc",
    "outputId": "051c3704-db06-42b0-cb06-129302f9fc2d"
   },
   "outputs": [
    {
     "data": {
      "text/html": [
       "<div>\n",
       "<style scoped>\n",
       "    .dataframe tbody tr th:only-of-type {\n",
       "        vertical-align: middle;\n",
       "    }\n",
       "\n",
       "    .dataframe tbody tr th {\n",
       "        vertical-align: top;\n",
       "    }\n",
       "\n",
       "    .dataframe thead th {\n",
       "        text-align: right;\n",
       "    }\n",
       "</style>\n",
       "<table border=\"1\" class=\"dataframe\">\n",
       "  <thead>\n",
       "    <tr style=\"text-align: right;\">\n",
       "      <th>purpose_category</th>\n",
       "      <th>операции с автомобилем</th>\n",
       "      <th>операции с недвижимостью</th>\n",
       "      <th>получение образования</th>\n",
       "      <th>проведение свадьбы</th>\n",
       "    </tr>\n",
       "  </thead>\n",
       "  <tbody>\n",
       "    <tr>\n",
       "      <th>debt</th>\n",
       "      <td>0.093284</td>\n",
       "      <td>0.072356</td>\n",
       "      <td>0.092319</td>\n",
       "      <td>0.078306</td>\n",
       "    </tr>\n",
       "  </tbody>\n",
       "</table>\n",
       "</div>"
      ],
      "text/plain": [
       "purpose_category  операции с автомобилем  операции с недвижимостью  \\\n",
       "debt                            0.093284                  0.072356   \n",
       "\n",
       "purpose_category  получение образования  проведение свадьбы  \n",
       "debt                           0.092319            0.078306  "
      ]
     },
     "metadata": {},
     "output_type": "display_data"
    }
   ],
   "source": [
    "purpose_and_debt = data.pivot_table(columns=['purpose_category'], values='debt', aggfunc='mean')\n",
    "display(purpose_and_debt)"
   ]
  },
  {
   "cell_type": "markdown",
   "id": "8474bd03",
   "metadata": {
    "deletable": false,
    "id": "8474bd03"
   },
   "source": [
    "**Вывод:** Люди указавшие в целях приобретения кредита операции с недвижимостью или для свадьбы в меньшей степени имеют задолженности. Бравшие кредит на недвижимость чаще не имеют задолженности. Вероятнее всего из-за цен на недвижимость, люди в меньшей степени здесь склонны к импульсивным покупкам и рассчитывают свой бюджет.  \n",
    "Те кто выбирают операции с автомобилем и получением образования - чаще других групп имеют задолженности."
   ]
  },
  {
   "cell_type": "markdown",
   "id": "35ba902a",
   "metadata": {
    "deletable": false,
    "editable": false,
    "id": "35ba902a"
   },
   "source": [
    "#### 3.5 Приведите возможные причины появления пропусков в исходных данных."
   ]
  },
  {
   "cell_type": "markdown",
   "id": "71765dba",
   "metadata": {
    "deletable": false,
    "id": "71765dba"
   },
   "source": [
    "*Ответ:* Неправильное заполнения формы физическими лицами(т.е. человеческий фактор), а также ошибки в базе данных вызваны техническими, которые возникают при обработке."
   ]
  },
  {
   "cell_type": "markdown",
   "id": "721e0773",
   "metadata": {
    "deletable": false,
    "editable": false,
    "id": "721e0773"
   },
   "source": [
    "#### 3.6 Объясните, почему заполнить пропуски медианным значением — лучшее решение для количественных переменных."
   ]
  },
  {
   "cell_type": "markdown",
   "id": "aaff1a20",
   "metadata": {
    "deletable": false,
    "id": "aaff1a20"
   },
   "source": [
    "*Ответ:* Потому что среднестатическое значение не всегда отражает реальные средние значения. Например, если у одного человека зарплата - 1 000 000₽, а других двоих - 10 000₽, то у них средняя 340 000₽."
   ]
  },
  {
   "cell_type": "markdown",
   "id": "e10c21c5",
   "metadata": {
    "deletable": false,
    "editable": false,
    "id": "e10c21c5"
   },
   "source": [
    "### Шаг 4: общий вывод."
   ]
  },
  {
   "cell_type": "markdown",
   "id": "127c7450",
   "metadata": {
    "deletable": false,
    "id": "127c7450"
   },
   "source": [
    "**Зависимость между количеством детей и возвратом кредита в срок.**\n",
    "\n",
    "|Количество детей |Процент должников (%)|\n",
    "|:|----:    |\n",
    "|0   | 7.543822|\n",
    "|1   |9.234609 |\n",
    "|2   | 9.454191|\n",
    "|3   |8.181818 |\n",
    "|4   |9.756098 |\n",
    "|5   |0.000000 |\n",
    "\n",
    ">Самые надежные клиенты - это люди не имеющие детей: ~7,5% имели задолженности по кредиту.\n",
    "Клиенты с тремя детьми - занимают второе место: ~8,2% невозврата в срок.\n",
    "Самые ненадежные клиенты - это люди с четыремя детьми: 9,7% имели задолженности.  \n",
    "\n",
    "**Зависимость между семейным положением и возвратом кредита в срок.**\n",
    "\n",
    "|Семейное положение |Процент должников (%)|\n",
    "|:|----:    |\n",
    "|Не женат / не замужем   | 9.763948|\n",
    "|В разводе               | 7.064760|\n",
    "|Вдовец / вдова          | 6.624606|\n",
    "|Гражданский брак        |9.313014|\n",
    "|Женат / замужем         | 7.560558|\n",
    "\n",
    ">Самые надежные клиенты - овдовевшие люди: ~6,7% имели задолженности по кредиту.\n",
    "Клиенты в разводе - занимают второе место: ~7,1% невозврата в срок.\n",
    "Самые ненадежные клиенты - это люди не вступавшие в брак: ~9,8% имели задолженности.\n",
    "\n",
    "**Зависимость между уровнем дохода и возвратом кредита в срок.**\n",
    "\n",
    "|Уровни дохода|Доходы (₽)|Процент должников (%)|\n",
    "|:|----:    |----:    |\n",
    "|A | 1 000 001 и выше   | 8.000000|\n",
    "|B            | 200 001 – 1 000 000 | 7.060231|\n",
    "|C        | 50 001 – 200 000 | 8.498210|\n",
    "|D     | 30 001 – 50 000 |6.017192|\n",
    "|E        | 0 – 30 000| 9.090909|\n",
    "\n",
    ">Самые надежные клиенты - люди с доходом от 30 000₽ до 50 000₽: ~6% имели задолженности по кредиту.\n",
    "Клиенты с доходам от 200 000₽ - 1 000 000₽ - занимают второе место: ~7% невозврата в срок.\n",
    "Самые ненадежные клиенты - это люди с доходам менее 30 000₽: ~9,1% имели задолженности.\n",
    "\n",
    "**Зависимость разные цели кредита влияют на возврат кредита в срок.**\n",
    "\n",
    "|Категории операций  |Процент должников (%)|\n",
    "|:|----:    |\n",
    "|Операции с автомобилем   |   9.347978|\n",
    "|Операции с недвижимостью |   7.255139|\n",
    "|Получение образования    |   9.252758|\n",
    "|Проведение свадьбы       |   7.911803|\n",
    "\n",
    ">Самые надежные клиенты - люди берущие кредит на операции с недвижимостью: ~7,3% имели задолженности по кредиту.\n",
    "Клиенты которые берут кредит для свадьбы - занимают второе место: ~7,9% невозврата в срок.\n",
    "Самые ненадежные клиенты - это люди берущие кредит на автомобиль: ~9,3% имели задолженности."
   ]
  }
 ],
 "metadata": {
  "ExecuteTimeLog": [
   {
    "duration": 462,
    "start_time": "2022-10-13T14:52:01.146Z"
   },
   {
    "duration": 23,
    "start_time": "2022-10-13T14:52:03.933Z"
   },
   {
    "duration": 16,
    "start_time": "2022-10-13T14:52:07.837Z"
   },
   {
    "duration": 431,
    "start_time": "2022-10-13T15:01:56.968Z"
   },
   {
    "duration": 24,
    "start_time": "2022-10-13T15:01:57.401Z"
   },
   {
    "duration": 16,
    "start_time": "2022-10-13T15:01:57.427Z"
   },
   {
    "duration": 19,
    "start_time": "2022-10-13T15:01:57.446Z"
   },
   {
    "duration": 50,
    "start_time": "2022-10-13T15:01:57.467Z"
   },
   {
    "duration": 4,
    "start_time": "2022-10-13T15:01:57.520Z"
   },
   {
    "duration": 30,
    "start_time": "2022-10-13T15:01:57.526Z"
   },
   {
    "duration": 8,
    "start_time": "2022-10-13T15:01:57.558Z"
   },
   {
    "duration": 35,
    "start_time": "2022-10-13T15:01:57.568Z"
   },
   {
    "duration": 8,
    "start_time": "2022-10-13T15:01:57.606Z"
   },
   {
    "duration": 44,
    "start_time": "2022-10-13T15:01:57.616Z"
   },
   {
    "duration": 10,
    "start_time": "2022-10-13T15:01:57.662Z"
   },
   {
    "duration": 7,
    "start_time": "2022-10-13T15:01:57.674Z"
   },
   {
    "duration": 21,
    "start_time": "2022-10-13T15:01:57.683Z"
   },
   {
    "duration": 27,
    "start_time": "2022-10-13T15:01:57.705Z"
   },
   {
    "duration": 19,
    "start_time": "2022-10-13T15:01:57.734Z"
   },
   {
    "duration": 4,
    "start_time": "2022-10-13T15:01:57.755Z"
   },
   {
    "duration": 25,
    "start_time": "2022-10-13T15:01:57.760Z"
   },
   {
    "duration": 20,
    "start_time": "2022-10-13T15:01:57.786Z"
   },
   {
    "duration": 12,
    "start_time": "2022-10-13T15:01:57.808Z"
   },
   {
    "duration": 15,
    "start_time": "2022-10-13T15:01:57.822Z"
   },
   {
    "duration": 13,
    "start_time": "2022-10-13T15:01:57.839Z"
   },
   {
    "duration": 17,
    "start_time": "2022-10-13T15:01:57.854Z"
   },
   {
    "duration": 21,
    "start_time": "2022-10-13T15:01:57.873Z"
   },
   {
    "duration": 14,
    "start_time": "2022-10-13T15:01:57.896Z"
   },
   {
    "duration": 20,
    "start_time": "2022-10-13T15:22:59.007Z"
   },
   {
    "duration": 5,
    "start_time": "2022-10-13T15:31:49.916Z"
   },
   {
    "duration": 83,
    "start_time": "2022-10-13T15:36:00.976Z"
   },
   {
    "duration": 15,
    "start_time": "2022-10-13T15:36:29.999Z"
   },
   {
    "duration": 16,
    "start_time": "2022-10-13T15:36:38.491Z"
   },
   {
    "duration": 17,
    "start_time": "2022-10-13T15:40:36.073Z"
   },
   {
    "duration": 11,
    "start_time": "2022-10-13T15:41:10.925Z"
   },
   {
    "duration": 14,
    "start_time": "2022-10-13T15:41:24.810Z"
   },
   {
    "duration": 14,
    "start_time": "2022-10-13T15:42:10.749Z"
   },
   {
    "duration": 27,
    "start_time": "2022-10-13T15:42:17.887Z"
   },
   {
    "duration": 29,
    "start_time": "2022-10-13T15:42:28.707Z"
   },
   {
    "duration": 14,
    "start_time": "2022-10-13T15:43:16.170Z"
   },
   {
    "duration": 16,
    "start_time": "2022-10-13T15:52:26.266Z"
   },
   {
    "duration": 17,
    "start_time": "2022-10-13T15:52:30.951Z"
   },
   {
    "duration": 17,
    "start_time": "2022-10-13T15:56:23.055Z"
   },
   {
    "duration": 18,
    "start_time": "2022-10-13T15:57:32.338Z"
   },
   {
    "duration": 13,
    "start_time": "2022-10-13T15:59:54.877Z"
   },
   {
    "duration": 18,
    "start_time": "2022-10-13T15:59:59.816Z"
   },
   {
    "duration": 18,
    "start_time": "2022-10-13T16:09:36.536Z"
   },
   {
    "duration": 15,
    "start_time": "2022-10-13T16:09:53.834Z"
   },
   {
    "duration": 21,
    "start_time": "2022-10-13T16:09:56.960Z"
   },
   {
    "duration": 70,
    "start_time": "2022-10-13T16:11:12.823Z"
   },
   {
    "duration": 18,
    "start_time": "2022-10-13T16:11:22.628Z"
   },
   {
    "duration": 18,
    "start_time": "2022-10-13T16:30:42.184Z"
   },
   {
    "duration": 19,
    "start_time": "2022-10-13T16:30:47.891Z"
   },
   {
    "duration": 2,
    "start_time": "2022-10-13T16:45:52.905Z"
   },
   {
    "duration": 660,
    "start_time": "2022-10-14T12:19:19.235Z"
   },
   {
    "duration": 22,
    "start_time": "2022-10-14T12:19:19.897Z"
   },
   {
    "duration": 13,
    "start_time": "2022-10-14T12:19:19.921Z"
   },
   {
    "duration": 9,
    "start_time": "2022-10-14T12:19:19.936Z"
   },
   {
    "duration": 41,
    "start_time": "2022-10-14T12:19:19.947Z"
   },
   {
    "duration": 3,
    "start_time": "2022-10-14T12:19:19.990Z"
   },
   {
    "duration": 34,
    "start_time": "2022-10-14T12:19:19.994Z"
   },
   {
    "duration": 4,
    "start_time": "2022-10-14T12:19:20.030Z"
   },
   {
    "duration": 9,
    "start_time": "2022-10-14T12:19:20.035Z"
   },
   {
    "duration": 4,
    "start_time": "2022-10-14T12:19:20.047Z"
   },
   {
    "duration": 39,
    "start_time": "2022-10-14T12:19:20.053Z"
   },
   {
    "duration": 29,
    "start_time": "2022-10-14T12:19:20.093Z"
   },
   {
    "duration": 3,
    "start_time": "2022-10-14T12:19:20.123Z"
   },
   {
    "duration": 23,
    "start_time": "2022-10-14T12:19:20.128Z"
   },
   {
    "duration": 19,
    "start_time": "2022-10-14T12:19:20.152Z"
   },
   {
    "duration": 17,
    "start_time": "2022-10-14T12:19:20.172Z"
   },
   {
    "duration": 4,
    "start_time": "2022-10-14T12:19:20.190Z"
   },
   {
    "duration": 27,
    "start_time": "2022-10-14T12:19:20.195Z"
   },
   {
    "duration": 10,
    "start_time": "2022-10-14T12:19:20.224Z"
   },
   {
    "duration": 11,
    "start_time": "2022-10-14T12:19:20.236Z"
   },
   {
    "duration": 21,
    "start_time": "2022-10-14T12:19:20.248Z"
   },
   {
    "duration": 6,
    "start_time": "2022-10-14T12:19:20.271Z"
   },
   {
    "duration": 22,
    "start_time": "2022-10-14T12:19:20.278Z"
   },
   {
    "duration": 24,
    "start_time": "2022-10-14T12:19:20.301Z"
   },
   {
    "duration": 15,
    "start_time": "2022-10-14T12:19:20.327Z"
   },
   {
    "duration": 17,
    "start_time": "2022-10-14T12:19:20.344Z"
   },
   {
    "duration": 62,
    "start_time": "2022-10-14T12:56:36.592Z"
   },
   {
    "duration": 0,
    "start_time": "2022-10-14T12:56:36.657Z"
   },
   {
    "duration": 0,
    "start_time": "2022-10-14T12:56:36.658Z"
   },
   {
    "duration": 6,
    "start_time": "2022-10-14T12:59:09.969Z"
   },
   {
    "duration": 52,
    "start_time": "2022-10-14T12:59:21.375Z"
   },
   {
    "duration": 714,
    "start_time": "2022-10-14T12:59:37.480Z"
   },
   {
    "duration": 22,
    "start_time": "2022-10-14T12:59:38.196Z"
   },
   {
    "duration": 21,
    "start_time": "2022-10-14T12:59:38.219Z"
   },
   {
    "duration": 10,
    "start_time": "2022-10-14T12:59:38.243Z"
   },
   {
    "duration": 50,
    "start_time": "2022-10-14T12:59:38.255Z"
   },
   {
    "duration": 4,
    "start_time": "2022-10-14T12:59:38.307Z"
   },
   {
    "duration": 12,
    "start_time": "2022-10-14T12:59:38.313Z"
   },
   {
    "duration": 10,
    "start_time": "2022-10-14T12:59:38.326Z"
   },
   {
    "duration": 25,
    "start_time": "2022-10-14T12:59:38.337Z"
   },
   {
    "duration": 7,
    "start_time": "2022-10-14T12:59:38.366Z"
   },
   {
    "duration": 55,
    "start_time": "2022-10-14T12:59:38.375Z"
   },
   {
    "duration": 10,
    "start_time": "2022-10-14T12:59:38.431Z"
   },
   {
    "duration": 12,
    "start_time": "2022-10-14T12:59:38.442Z"
   },
   {
    "duration": 23,
    "start_time": "2022-10-14T12:59:38.455Z"
   },
   {
    "duration": 31,
    "start_time": "2022-10-14T12:59:38.480Z"
   },
   {
    "duration": 23,
    "start_time": "2022-10-14T12:59:38.513Z"
   },
   {
    "duration": 5,
    "start_time": "2022-10-14T12:59:38.538Z"
   },
   {
    "duration": 24,
    "start_time": "2022-10-14T12:59:38.545Z"
   },
   {
    "duration": 11,
    "start_time": "2022-10-14T12:59:38.571Z"
   },
   {
    "duration": 15,
    "start_time": "2022-10-14T12:59:38.584Z"
   },
   {
    "duration": 16,
    "start_time": "2022-10-14T12:59:38.601Z"
   },
   {
    "duration": 25,
    "start_time": "2022-10-14T12:59:38.618Z"
   },
   {
    "duration": 88,
    "start_time": "2022-10-14T12:59:38.644Z"
   },
   {
    "duration": 0,
    "start_time": "2022-10-14T12:59:38.734Z"
   },
   {
    "duration": 0,
    "start_time": "2022-10-14T12:59:38.735Z"
   },
   {
    "duration": 0,
    "start_time": "2022-10-14T12:59:38.736Z"
   },
   {
    "duration": 15,
    "start_time": "2022-10-14T12:59:52.291Z"
   },
   {
    "duration": 17,
    "start_time": "2022-10-14T13:00:48.184Z"
   },
   {
    "duration": 17,
    "start_time": "2022-10-14T13:17:44.454Z"
   },
   {
    "duration": 16,
    "start_time": "2022-10-14T13:17:47.350Z"
   },
   {
    "duration": 21,
    "start_time": "2022-10-14T13:44:11.181Z"
   },
   {
    "duration": 18,
    "start_time": "2022-10-14T13:44:30.848Z"
   },
   {
    "duration": 17,
    "start_time": "2022-10-14T13:44:49.752Z"
   },
   {
    "duration": 15,
    "start_time": "2022-10-14T13:44:56.267Z"
   },
   {
    "duration": 8,
    "start_time": "2022-10-14T13:45:02.794Z"
   },
   {
    "duration": 14,
    "start_time": "2022-10-14T13:45:05.517Z"
   },
   {
    "duration": 17,
    "start_time": "2022-10-14T13:45:13.065Z"
   },
   {
    "duration": 15,
    "start_time": "2022-10-14T13:45:22.289Z"
   },
   {
    "duration": 16,
    "start_time": "2022-10-14T13:45:31.274Z"
   },
   {
    "duration": 17,
    "start_time": "2022-10-14T13:45:55.187Z"
   },
   {
    "duration": 74,
    "start_time": "2022-10-14T13:46:47.741Z"
   },
   {
    "duration": 83,
    "start_time": "2022-10-14T13:47:04.462Z"
   },
   {
    "duration": 17,
    "start_time": "2022-10-14T13:47:11.243Z"
   },
   {
    "duration": 4,
    "start_time": "2022-10-14T13:49:10.850Z"
   },
   {
    "duration": 5,
    "start_time": "2022-10-14T13:49:26.596Z"
   },
   {
    "duration": 89,
    "start_time": "2022-10-14T13:55:46.912Z"
   },
   {
    "duration": 66,
    "start_time": "2022-10-14T13:55:52.214Z"
   },
   {
    "duration": 33,
    "start_time": "2022-10-14T13:56:02.115Z"
   },
   {
    "duration": 17,
    "start_time": "2022-10-14T13:56:13.337Z"
   },
   {
    "duration": 17,
    "start_time": "2022-10-14T13:56:30.869Z"
   },
   {
    "duration": 17,
    "start_time": "2022-10-14T13:56:36.064Z"
   },
   {
    "duration": 93,
    "start_time": "2022-10-14T13:56:44.251Z"
   },
   {
    "duration": 28,
    "start_time": "2022-10-14T13:57:10.869Z"
   },
   {
    "duration": 15,
    "start_time": "2022-10-14T13:57:39.568Z"
   },
   {
    "duration": 29,
    "start_time": "2022-10-14T13:57:42.984Z"
   },
   {
    "duration": 27,
    "start_time": "2022-10-14T13:57:51.889Z"
   },
   {
    "duration": 35,
    "start_time": "2022-10-14T13:58:06.671Z"
   },
   {
    "duration": 9,
    "start_time": "2022-10-14T13:58:12.510Z"
   },
   {
    "duration": 4,
    "start_time": "2022-10-14T13:58:18.569Z"
   },
   {
    "duration": 8,
    "start_time": "2022-10-14T13:58:29.880Z"
   },
   {
    "duration": 6,
    "start_time": "2022-10-14T13:58:35.306Z"
   },
   {
    "duration": 28,
    "start_time": "2022-10-14T13:58:43.905Z"
   },
   {
    "duration": 27,
    "start_time": "2022-10-14T13:58:54.760Z"
   },
   {
    "duration": 68,
    "start_time": "2022-10-14T13:59:18.866Z"
   },
   {
    "duration": 17,
    "start_time": "2022-10-14T13:59:22.777Z"
   },
   {
    "duration": 27,
    "start_time": "2022-10-14T13:59:35.117Z"
   },
   {
    "duration": 17,
    "start_time": "2022-10-14T14:00:25.809Z"
   },
   {
    "duration": 17,
    "start_time": "2022-10-14T14:00:34.686Z"
   },
   {
    "duration": 4,
    "start_time": "2022-10-14T14:00:35.387Z"
   },
   {
    "duration": 16,
    "start_time": "2022-10-14T14:00:54.552Z"
   },
   {
    "duration": 23,
    "start_time": "2022-10-14T14:01:13.295Z"
   },
   {
    "duration": 23,
    "start_time": "2022-10-14T14:01:39.012Z"
   },
   {
    "duration": 16,
    "start_time": "2022-10-14T14:03:12.923Z"
   },
   {
    "duration": 22,
    "start_time": "2022-10-14T14:03:17.702Z"
   },
   {
    "duration": 23,
    "start_time": "2022-10-14T14:03:54.079Z"
   },
   {
    "duration": 20,
    "start_time": "2022-10-14T14:05:52.857Z"
   },
   {
    "duration": 22,
    "start_time": "2022-10-14T14:05:55.768Z"
   },
   {
    "duration": 18,
    "start_time": "2022-10-14T14:31:25.698Z"
   },
   {
    "duration": 24,
    "start_time": "2022-10-14T14:31:43.334Z"
   },
   {
    "duration": 21,
    "start_time": "2022-10-14T14:31:49.661Z"
   },
   {
    "duration": 21,
    "start_time": "2022-10-14T14:33:32.855Z"
   },
   {
    "duration": 19,
    "start_time": "2022-10-14T14:33:50.052Z"
   },
   {
    "duration": 19,
    "start_time": "2022-10-14T14:38:44.043Z"
   },
   {
    "duration": 20,
    "start_time": "2022-10-14T14:39:00.030Z"
   },
   {
    "duration": 20,
    "start_time": "2022-10-14T14:40:40.991Z"
   },
   {
    "duration": 25,
    "start_time": "2022-10-14T14:48:36.658Z"
   },
   {
    "duration": 19,
    "start_time": "2022-10-14T14:56:15.428Z"
   },
   {
    "duration": 20,
    "start_time": "2022-10-14T14:56:21.300Z"
   },
   {
    "duration": 21,
    "start_time": "2022-10-14T14:57:55.734Z"
   },
   {
    "duration": 20,
    "start_time": "2022-10-14T14:57:58.135Z"
   },
   {
    "duration": 1438,
    "start_time": "2022-10-14T15:13:05.621Z"
   },
   {
    "duration": 24,
    "start_time": "2022-10-14T15:13:23.382Z"
   },
   {
    "duration": 24,
    "start_time": "2022-10-14T15:13:37.522Z"
   },
   {
    "duration": 1142,
    "start_time": "2022-10-14T15:31:37.623Z"
   },
   {
    "duration": 23,
    "start_time": "2022-10-14T15:31:54.355Z"
   },
   {
    "duration": 24,
    "start_time": "2022-10-14T15:46:44.323Z"
   },
   {
    "duration": 3,
    "start_time": "2022-10-14T15:53:12.967Z"
   },
   {
    "duration": 502,
    "start_time": "2022-10-15T13:33:23.632Z"
   },
   {
    "duration": 22,
    "start_time": "2022-10-15T13:33:24.135Z"
   },
   {
    "duration": 29,
    "start_time": "2022-10-15T13:33:24.159Z"
   },
   {
    "duration": 35,
    "start_time": "2022-10-15T13:33:24.190Z"
   },
   {
    "duration": 49,
    "start_time": "2022-10-15T13:33:24.227Z"
   },
   {
    "duration": 5,
    "start_time": "2022-10-15T13:33:24.278Z"
   },
   {
    "duration": 44,
    "start_time": "2022-10-15T13:33:24.285Z"
   },
   {
    "duration": 26,
    "start_time": "2022-10-15T13:33:24.331Z"
   },
   {
    "duration": 21,
    "start_time": "2022-10-15T13:33:24.359Z"
   },
   {
    "duration": 36,
    "start_time": "2022-10-15T13:33:24.382Z"
   },
   {
    "duration": 49,
    "start_time": "2022-10-15T13:33:24.420Z"
   },
   {
    "duration": 9,
    "start_time": "2022-10-15T13:33:24.471Z"
   },
   {
    "duration": 36,
    "start_time": "2022-10-15T13:33:24.481Z"
   },
   {
    "duration": 19,
    "start_time": "2022-10-15T13:33:24.518Z"
   },
   {
    "duration": 41,
    "start_time": "2022-10-15T13:33:24.538Z"
   },
   {
    "duration": 18,
    "start_time": "2022-10-15T13:33:24.581Z"
   },
   {
    "duration": 16,
    "start_time": "2022-10-15T13:33:24.601Z"
   },
   {
    "duration": 27,
    "start_time": "2022-10-15T13:33:24.618Z"
   },
   {
    "duration": 29,
    "start_time": "2022-10-15T13:33:24.647Z"
   },
   {
    "duration": 24,
    "start_time": "2022-10-15T13:33:24.678Z"
   },
   {
    "duration": 30,
    "start_time": "2022-10-15T13:33:24.704Z"
   },
   {
    "duration": 16,
    "start_time": "2022-10-15T13:33:24.736Z"
   },
   {
    "duration": 34,
    "start_time": "2022-10-15T13:33:24.753Z"
   },
   {
    "duration": 28,
    "start_time": "2022-10-15T13:33:24.790Z"
   },
   {
    "duration": 26,
    "start_time": "2022-10-15T13:33:32.047Z"
   },
   {
    "duration": 20,
    "start_time": "2022-10-15T13:33:55.313Z"
   },
   {
    "duration": 12,
    "start_time": "2022-10-15T13:36:31.652Z"
   },
   {
    "duration": 12,
    "start_time": "2022-10-15T13:36:34.902Z"
   },
   {
    "duration": 15,
    "start_time": "2022-10-15T13:36:38.919Z"
   }
  ],
  "colab": {
   "provenance": []
  },
  "kernelspec": {
   "display_name": "Python 3 (ipykernel)",
   "language": "python",
   "name": "python3"
  },
  "language_info": {
   "codemirror_mode": {
    "name": "ipython",
    "version": 3
   },
   "file_extension": ".py",
   "mimetype": "text/x-python",
   "name": "python",
   "nbconvert_exporter": "python",
   "pygments_lexer": "ipython3",
   "version": "3.10.9"
  },
  "toc": {
   "base_numbering": 1,
   "nav_menu": {},
   "number_sections": true,
   "sideBar": true,
   "skip_h1_title": true,
   "title_cell": "Table of Contents",
   "title_sidebar": "Contents",
   "toc_cell": false,
   "toc_position": {},
   "toc_section_display": true,
   "toc_window_display": false
  }
 },
 "nbformat": 4,
 "nbformat_minor": 5
}
